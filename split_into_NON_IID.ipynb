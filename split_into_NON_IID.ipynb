{
 "cells": [
  {
   "cell_type": "markdown",
   "metadata": {},
   "source": [
    "### TO check whether the 4 classes of images are their in the specified directory"
   ]
  },
  {
   "cell_type": "code",
   "execution_count": null,
   "metadata": {
    "vscode": {
     "languageId": "plaintext"
    }
   },
   "outputs": [],
   "source": [
    "import os\n",
    "import shutil\n",
    "\n",
    "# Define paths for training and testing datasets\n",
    "source_train_dir = \"BrainTumor_MRI/Training\"\n",
    "source_test_dir = \"BrainTumor_MRI/Testing\"\n",
    "\n",
    "# Define class names\n",
    "classes = [\"glioma\", \"meningioma\", \"notumor\", \"pituitary\"]\n",
    "\n",
    "# Check if images are in the correct source directory\n",
    "for class_name in classes:\n",
    "    class_train_folder = os.path.join(source_train_dir, class_name)\n",
    "    class_test_folder = os.path.join(source_test_dir, class_name)\n",
    "\n",
    "    if not os.path.exists(class_train_folder):\n",
    "        print(f\"Source training folder for {class_name} does not exist!\")\n",
    "    if not os.path.exists(class_test_folder):\n",
    "        print(f\"Source testing folder for {class_name} does not exist!\")\n",
    "    else:\n",
    "        print(f\"Source folders exist and contain {len(os.listdir(class_train_folder))} training images and {len(os.listdir(class_test_folder))} testing images for {class_name}.\")\n"
   ]
  },
  {
   "cell_type": "markdown",
   "metadata": {},
   "source": [
    "### TO split the IID dataset into NON-IID format, to create real world FL environment"
   ]
  },
  {
   "cell_type": "code",
   "execution_count": null,
   "metadata": {
    "vscode": {
     "languageId": "plaintext"
    }
   },
   "outputs": [],
   "source": [
    "import os\n",
    "import shutil\n",
    "from sklearn.model_selection import train_test_split\n",
    "\n",
    "# Paths to the dataset\n",
    "train_dir = 'BrainTumor_MRI/Training'\n",
    "test_dir = 'BrainTumor_MRI/Testing'\n",
    "output_dir = 'NON_IID/'\n",
    "\n",
    "# Class names\n",
    "classes = ['glioma', 'meningioma', 'notumor', 'pituitary']\n",
    "\n",
    "# Number of samples to be taken for each model\n",
    "# We consider this values to simulate a situation that each client have sufficient data \n",
    "# atleast for one type of Brain tumor MRI scan\n",
    "samples = {\n",
    "    'Model_1': {'glioma': (1021, 210), 'meningioma': (100, 32), 'notumor': (100, 50), 'pituitary': (100, 50)},\n",
    "    'Model_2': {'glioma': (100, 30), 'meningioma': (1039, 210), 'notumor': (100, 50), 'pituitary': (100, 50)},\n",
    "    'Model_3': {'glioma': (100, 30), 'meningioma': (100, 32), 'notumor': (1295, 255), 'pituitary': (100, 50)},\n",
    "    'Model_4': {'glioma': (100, 30), 'meningioma': (100, 32), 'notumor': (100, 50), 'pituitary': (1157, 150)}\n",
    "}\n",
    "\n",
    "# Function to copy files to the appropriate directories\n",
    "def copy_files(file_list, dest_dir):\n",
    "    for file_path in file_list:\n",
    "        shutil.copy(file_path, dest_dir)\n",
    "\n",
    "# Splitting the dataset\n",
    "for model, splits in samples.items():\n",
    "    model_dir = os.path.join(output_dir, model)\n",
    "    os.makedirs(model_dir, exist_ok=True)\n",
    "\n",
    "    for cls, (train_size, test_size) in splits.items():\n",
    "        # Train directory and files\n",
    "        train_class_dir = os.path.join(train_dir, cls)\n",
    "        train_files = [os.path.join(train_class_dir, f) for f in os.listdir(train_class_dir)]\n",
    "\n",
    "        # Test directory and files\n",
    "        test_class_dir = os.path.join(test_dir, cls)\n",
    "        test_files = [os.path.join(test_class_dir, f) for f in os.listdir(test_class_dir)]\n",
    "\n",
    "        # Split the train files for the model\n",
    "        train_subset, _ = train_test_split(train_files, train_size=train_size, random_state=42)\n",
    "\n",
    "        # Split the test files for the model\n",
    "        test_subset, _ = train_test_split(test_files, train_size=test_size, random_state=42)\n",
    "\n",
    "        # Copy train files\n",
    "        model_train_dir = os.path.join(model_dir, 'train', cls)\n",
    "        os.makedirs(model_train_dir, exist_ok=True)\n",
    "        copy_files(train_subset, model_train_dir)\n",
    "\n",
    "        # Copy test files\n",
    "        model_test_dir = os.path.join(model_dir, 'test', cls)\n",
    "        os.makedirs(model_test_dir, exist_ok=True)\n",
    "        copy_files(test_subset, model_test_dir)\n",
    "\n",
    "print(\"Dataset split completed successfully.\")\n"
   ]
  },
  {
   "cell_type": "markdown",
   "metadata": {},
   "source": [
    "### Plot the NON-IID Data Distribution before agumentation"
   ]
  },
  {
   "cell_type": "code",
   "execution_count": null,
   "metadata": {
    "vscode": {
     "languageId": "plaintext"
    }
   },
   "outputs": [],
   "source": [
    "import matplotlib.pyplot as plt\n",
    "import numpy as np\n",
    "\n",
    "# Categories (Tumor types)\n",
    "categories = [\"Glioma\", \"Meningioma\", \"No Tumor\", \"Pituitary\"]\n",
    "x = np.arange(len(categories))  # X positions\n",
    "\n",
    "\n",
    "# NON_IID_Data for each model\n",
    "model_1_train = [1021, 100, 100, 100]\n",
    "model_1_test = [210, 32, 50, 50]\n",
    "\n",
    "model_2_train = [100, 1039, 100, 100]\n",
    "model_2_test = [30, 210, 50, 50]\n",
    "\n",
    "model_3_train = [100, 100, 1295, 100]\n",
    "model_3_test = [30, 32, 255, 50]\n",
    "\n",
    "model_4_train = [100, 100, 100, 1157]\n",
    "model_4_test = [30, 32, 50, 150]\n",
    "\n",
    "# Bar width\n",
    "bar_width = 0.2\n",
    "\n",
    "# Creating the plot\n",
    "fig, ax = plt.subplots(figsize=(16, 10))\n",
    "\n",
    "# Plot bars for Model 1\n",
    "ax.bar(x - 1.5 * bar_width, model_1_train, bar_width, label=\"Model 1 - Training\", color='#1f77b4')\n",
    "ax.bar(x - 1.5 * bar_width, model_1_test, bar_width, bottom=model_1_train, label=\"Model 1 - Testing\", color='#aec7e8')\n",
    "\n",
    "# Plot bars for Model 2\n",
    "ax.bar(x - 0.5 * bar_width, model_2_train, bar_width, label=\"Model 2 - Training\", color='#9467bd')\n",
    "ax.bar(x - 0.5 * bar_width, model_2_test, bar_width, bottom=model_2_train, label=\"Model 2 - Testing\", color='#c5b0d5')\n",
    "\n",
    "# Plot bars for Model 3\n",
    "ax.bar(x + 0.5 * bar_width, model_3_train, bar_width, label=\"Model 3 - Training\", color='#2ca02c')\n",
    "ax.bar(x + 0.5 * bar_width, model_3_test, bar_width, bottom=model_3_train, label=\"Model 3 - Testing\", color='#98df8a')\n",
    "\n",
    "# Plot bars for Model 4\n",
    "ax.bar(x + 1.5 * bar_width, model_4_train, bar_width, label=\"Model 4 - Training\", color='#d62728')\n",
    "ax.bar(x + 1.5 * bar_width, model_4_test, bar_width, bottom=model_4_train, label=\"Model 4 - Testing\", color='#ff9896')\n",
    "\n",
    "# Labels and title with increased font size\n",
    "ax.set_xlabel(\"Tumor Type\", fontsize=20)\n",
    "ax.set_ylabel(\"Number of Samples\", fontsize=20)\n",
    "ax.set_title(\"Combined Sample Distribution for Models 1, 2, 3, and 4\", fontsize=24)\n",
    "ax.set_xticks(x)\n",
    "ax.set_xticklabels(categories, fontsize=19)\n",
    "#ax.set_yticks(y)\n",
    "ax.set_yticklabels([0, 200, 400, 600, 800, 1000, 1200 ,1400 ,1600],fontsize=19)\n",
    "\n",
    "# Adjust legend to be at the bottom center\n",
    "ax.legend(\n",
    "    loc='upper center',\n",
    "    bbox_to_anchor=(0.5, -0.25),  # Place it outside the plot area\n",
    "    ncol=4,  # Number of columns for legend\n",
    "    fontsize=20,  # Adjust font size for legend items\n",
    "    title=\"Training and Testing Models\",\n",
    "    title_fontsize=21 # Font size for legend title\n",
    ")\n",
    "\n",
    "# Adjust layout to ensure the legend fits within the figure\n",
    "plt.tight_layout()\n",
    "\n",
    "# Show the plot\n",
    "plt.show()\n",
    "\n",
    "# Save the figure as a high-resolution PDF\n",
    "fig.savefig(\"NON_IID_DATA_REPRESENTATION.pdf\", format=\"pdf\", dpi=900)\n"
   ]
  }
 ],
 "metadata": {
  "language_info": {
   "name": "python"
  }
 },
 "nbformat": 4,
 "nbformat_minor": 2
}
