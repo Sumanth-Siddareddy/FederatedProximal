{
 "cells": [
  {
   "cell_type": "markdown",
   "id": "920dfa95-dcda-42eb-a2cc-6875636d9645",
   "metadata": {},
   "source": [
    "# Import required libraries"
   ]
  },
  {
   "cell_type": "code",
   "execution_count": 1,
   "id": "f1ca1dac-b2eb-4c17-acec-f319064b8d6d",
   "metadata": {},
   "outputs": [
    {
     "name": "stderr",
     "output_type": "stream",
     "text": [
      "2024-11-21 08:05:45.794226: I tensorflow/core/platform/cpu_feature_guard.cc:182] This TensorFlow binary is optimized to use available CPU instructions in performance-critical operations.\n",
      "To enable the following instructions: AVX2 FMA, in other operations, rebuild TensorFlow with the appropriate compiler flags.\n",
      "2024-11-21 08:05:46.758058: W tensorflow/compiler/tf2tensorrt/utils/py_utils.cc:38] TF-TRT Warning: Could not find TensorRT\n"
     ]
    }
   ],
   "source": [
    "import os\n",
    "import numpy as np\n",
    "import matplotlib.pyplot as plt\n",
    "import seaborn as sns\n",
    "\n",
    "from sklearn.metrics import classification_report, confusion_matrix\n",
    "from sklearn.metrics import accuracy_score, precision_score, recall_score, confusion_matrix, classification_report\n",
    "\n",
    "import shutil\n",
    "import random\n",
    "\n",
    "import tensorflow as tf\n",
    "from tensorflow.keras import layers, models\n",
    "from tensorflow.keras.models import Sequential\n",
    "from tensorflow.keras.callbacks import EarlyStopping\n",
    "from tensorflow.keras.layers import Flatten, Input, BatchNormalization, Dense, Activation, Dropout\n",
    "from tensorflow.keras.preprocessing.image import ImageDataGenerator, load_img, img_to_array\n",
    "from tensorflow.keras.optimizers import SGD\n",
    "from tensorflow.keras.optimizers import Adam\n",
    "\n",
    "import torch\n",
    "import torch.nn as nn\n",
    "import torch.nn.functional as F\n",
    "import torch.optim as optim\n",
    "\n",
    "from torch.utils.data import DataLoader\n",
    "from torch.utils.data import TensorDataset\n",
    "from torchvision import datasets, transforms\n",
    "from torchvision.datasets import ImageFolder\n",
    "\n",
    "from copy import deepcopy"
   ]
  },
  {
   "cell_type": "markdown",
   "id": "d29a8076-fba9-46cc-aab1-d71ebd0363ae",
   "metadata": {},
   "source": [
    "# Federated Proximal Algorithm"
   ]
  },
  {
   "cell_type": "code",
   "execution_count": 2,
   "id": "95379c36-ebf0-4889-be8d-d3ef2bf154b7",
   "metadata": {},
   "outputs": [],
   "source": [
    "def loss_classifier(predictions, labels):\n",
    "    loss = tf.nn.sparse_softmax_cross_entropy_with_logits(labels=labels, logits=predictions)\n",
    "    return tf.reduce_mean(loss)\n",
    "\n",
    "\n",
    "def loss_dataset(model, dataset, loss_f):\n",
    "    loss = 0\n",
    "    for idx, (features, labels) in enumerate(dataset):\n",
    "        # Convert PyTorch tensors to NumPy and then to TensorFlow tensors\n",
    "        features_np = features.detach().cpu().numpy()\n",
    "        labels_np = labels.detach().cpu().numpy()\n",
    "\n",
    "        features_tf = tf.convert_to_tensor(features_np, dtype=tf.float32)\n",
    "        labels_tf = tf.convert_to_tensor(labels_np, dtype=tf.int32)\n",
    "\n",
    "        predictions = model(features_tf)\n",
    "        loss += loss_f(predictions, labels_tf)\n",
    "    loss /= (idx + 1)\n",
    "    return loss\n",
    "\n",
    "\n",
    "def accuracy_dataset(model, dataset):\n",
    "    correct = 0\n",
    "    total = 0\n",
    "    for features, labels in dataset:\n",
    "        # Convert PyTorch tensors to NumPy and then to TensorFlow tensors\n",
    "        features_np = features.detach().cpu().numpy()\n",
    "        labels_np = labels.detach().cpu().numpy()\n",
    "\n",
    "        features_tf = tf.convert_to_tensor(features_np, dtype=tf.float32)\n",
    "        labels_tf = tf.convert_to_tensor(labels_np, dtype=tf.int32)\n",
    "\n",
    "        predictions = model(features_tf)\n",
    "        predicted = tf.argmax(predictions, axis=1, output_type=tf.int32)\n",
    "        correct += tf.reduce_sum(tf.cast(tf.equal(predicted, labels_tf), tf.int32)).numpy()\n",
    "        total += labels_tf.shape[0]\n",
    "\n",
    "    accuracy = 100 * correct / total\n",
    "    return accuracy\n",
    "\n",
    "\n",
    "def train_step(model, model_0, mu, optimizer, train_data, loss_f):\n",
    "    total_loss = 0\n",
    "    for idx, (features, labels) in enumerate(train_data):\n",
    "        # Convert PyTorch tensors to NumPy and then to TensorFlow tensors\n",
    "        features_np = features.detach().cpu().numpy()\n",
    "        labels_np = labels.detach().cpu().numpy()\n",
    "\n",
    "        features_tf = tf.convert_to_tensor(features_np, dtype=tf.float32)\n",
    "        labels_tf = tf.convert_to_tensor(labels_np, dtype=tf.int32)\n",
    "\n",
    "        with tf.GradientTape() as tape:\n",
    "            predictions = model(features_tf)\n",
    "            loss = loss_f(predictions, labels_tf)\n",
    "            loss += mu / 2 * difference_models_norm_2(model, model_0)\n",
    "\n",
    "        total_loss += loss\n",
    "        gradients = tape.gradient(loss, model.trainable_variables)\n",
    "        optimizer.apply_gradients(zip(gradients, model.trainable_variables))\n",
    "\n",
    "    return total_loss / (idx + 1)\n",
    "\n",
    "\n",
    "def local_learning(model, mu, optimizer, train_data, epochs, loss_f):\n",
    "    # Clone the model instead of using deepcopy\n",
    "    model_0 = tf.keras.models.clone_model(model)\n",
    "    model_0.set_weights(model.get_weights())  # Set weights to be identical initially\n",
    "\n",
    "    for e in range(epochs):\n",
    "        local_loss = train_step(model, model_0, mu, optimizer, train_data, loss_f)\n",
    "\n",
    "    return local_loss\n",
    "\n",
    "\n",
    "def difference_models_norm_2(model_1, model_2):\n",
    "    norm = tf.reduce_sum([tf.reduce_sum(tf.square(w1 - w2)) for w1, w2 in zip(model_1.trainable_variables, model_2.trainable_variables)])\n",
    "    return norm\n",
    "\n",
    "def set_to_zero_model_weights(model):\n",
    "    for layer_weights in model.trainable_variables:\n",
    "        layer_weights.assign(tf.zeros_like(layer_weights))\n",
    "\n",
    "def average_models(model, clients_models_hist, weights):\n",
    "    set_to_zero_model_weights(model)\n",
    "    for k, client_hist in enumerate(clients_models_hist):\n",
    "        for idx, layer_weights in enumerate(model.trainable_variables):\n",
    "            contribution = client_hist[idx] * weights[k]\n",
    "            layer_weights.assign_add(contribution)\n",
    "\n",
    "#_______________________________________________________"
   ]
  },
  {
   "cell_type": "code",
   "execution_count": 3,
   "id": "b9a39f33-846d-461f-8e52-d8e457df6470",
   "metadata": {},
   "outputs": [],
   "source": [
    "def FedProx(model, training_sets, n_iter, testing_sets, mu=0, epochs=5, lr=0.01, decay=1):\n",
    "    # Verify that `model` is a Keras model instance\n",
    "    if not isinstance(model, tf.keras.Model):\n",
    "        raise TypeError(\"The provided model is not a TensorFlow Keras model. Please provide a valid Keras model.\")\n",
    "\n",
    "    loss_f = loss_classifier\n",
    "    K = len(training_sets)\n",
    "    n_samples = sum([len(db) for db in training_sets])\n",
    "    weights = [len(db) / n_samples for db in training_sets]\n",
    "    print(\"Clients' weights:\", weights)\n",
    "\n",
    "    # Initialize history lists for training and testing\n",
    "    train_loss_hist = []\n",
    "    train_acc_hist = []\n",
    "    test_loss_hist = []\n",
    "    test_acc_hist = []\n",
    "    models_hist = []\n",
    "\n",
    "    for i in range(n_iter):\n",
    "        clients_params = []\n",
    "        clients_losses = []\n",
    "        clients_accuracies = []\n",
    "\n",
    "        for k in range(K):\n",
    "            # Clone the model and set weights for local training\n",
    "            local_model = tf.keras.models.clone_model(model)\n",
    "            local_model.set_weights(model.get_weights())\n",
    "\n",
    "            local_optimizer = tf.keras.optimizers.SGD(learning_rate=lr)\n",
    "\n",
    "            # Perform local training and track the loss\n",
    "            local_loss = local_learning(local_model, mu, local_optimizer, training_sets[k], epochs, loss_f)\n",
    "            clients_losses.append(local_loss)\n",
    "\n",
    "            # Track training accuracy for the client\n",
    "            train_acc = accuracy_dataset(local_model, training_sets[k])\n",
    "            clients_accuracies.append(train_acc)\n",
    "\n",
    "            # Store model parameters (deep copy to ensure immutability)\n",
    "            clients_params.append([tf.identity(tens_param) for tens_param in local_model.trainable_variables])\n",
    "\n",
    "        # Average the local models into the global model\n",
    "        average_models(model, clients_params, weights=weights)\n",
    "        models_hist.append(deepcopy(clients_params))\n",
    "\n",
    "        # Collect metrics for this iteration\n",
    "        train_loss_hist.append(clients_losses)\n",
    "        train_acc_hist.append(clients_accuracies)\n",
    "\n",
    "        # Compute testing metrics using the global model\n",
    "        test_loss_hist.append([loss_dataset(model, dl, loss_f).numpy() for dl in testing_sets])\n",
    "        test_acc_hist.append([accuracy_dataset(model, dl) for dl in testing_sets])\n",
    "\n",
    "        # Update learning rate by decay factor\n",
    "        lr *= decay\n",
    "        print(f'====> i: {i+1} Server Test Accuracy: {test_acc_hist[-1]}')\n",
    "\n",
    "    return model, train_loss_hist, train_acc_hist, test_loss_hist, test_acc_hist\n",
    "\n"
   ]
  },
  {
   "cell_type": "markdown",
   "id": "1a018150-8a78-405a-aea3-aef88c5cfeea",
   "metadata": {},
   "source": [
    "# Plot results + Save results in text file"
   ]
  },
  {
   "cell_type": "code",
   "execution_count": 4,
   "id": "7f9d1578-80c8-44e6-ae39-9154d0f312df",
   "metadata": {},
   "outputs": [],
   "source": [
    "import matplotlib.pyplot as plt\n",
    "\n",
    "def plot_acc_loss(title: str, train_loss_hist: list, train_acc_hist: list,\n",
    "                  test_loss_hist: list, test_acc_hist: list):\n",
    "    plt.figure(figsize=(15, 5))  # Make the plot wider\n",
    "\n",
    "    # Plot training loss\n",
    "    plt.subplot(2, 2, 1)\n",
    "    lines = plt.plot(train_loss_hist)\n",
    "    plt.title(\"Training Loss\")\n",
    "    plt.legend(lines, [f\"C{i+1}\" for i in range(len(train_loss_hist[0]))])\n",
    "\n",
    "    # Plot training accuracy\n",
    "    plt.subplot(2, 2, 2)\n",
    "    lines = plt.plot(train_acc_hist)\n",
    "    plt.title(\"Training Accuracy\")\n",
    "    plt.legend(lines, [f\"C{i+1}\" for i in range(len(train_acc_hist[0]))])\n",
    "\n",
    "    # Plot testing loss\n",
    "    plt.subplot(2, 2, 3)\n",
    "    lines = plt.plot(test_loss_hist)\n",
    "    plt.title(\"Testing Loss\")\n",
    "    plt.legend(lines, [f\"C{i+1}\" for i in range(len(test_loss_hist[0]))])\n",
    "\n",
    "    # Plot testing accuracy\n",
    "    plt.subplot(2, 2, 4)\n",
    "    lines = plt.plot(test_acc_hist)\n",
    "    plt.title(\"Testing Accuracy\")\n",
    "    plt.legend(lines, [f\"C{i+1}\" for i in range(len(test_acc_hist[0]))])\n",
    "\n",
    "    plt.suptitle(title)\n",
    "    plt.tight_layout()\n",
    "    plt.show()\n",
    "\n",
    "\n",
    "def save_history_to_file(filename, n_iter, train_loss_hist, train_acc_hist,\n",
    "                         test_loss_hist, test_acc_hist):\n",
    "    with open(filename, 'w') as f:\n",
    "        f.write(\"FedProx Training Results\\n\")\n",
    "        f.write(\"=\"*50 + \"\\n\")\n",
    "        f.write(f\"Number of iterations: {n_iter}\\n\\n\")\n",
    "\n",
    "        # Write the history for each iteration\n",
    "        for i in range(n_iter):\n",
    "            f.write(f\"Iteration {i+1}:\\n\")\n",
    "            f.write(f\"Train Loss: {train_loss_hist[i]}\\n\")\n",
    "            f.write(f\"Train Accuracy: {train_acc_hist[i]}\\n\")\n",
    "            f.write(f\"Test Loss: {test_loss_hist[i]}\\n\")\n",
    "            f.write(f\"Test Accuracy: {test_acc_hist[i]}\\n\")\n",
    "            f.write(\"-\"*50 + \"\\n\")\n",
    "\n",
    "    print(f\"Training history saved to {filename}\")"
   ]
  },
  {
   "cell_type": "markdown",
   "id": "52001212-92b9-41b9-8d2e-89d43c71bd2b",
   "metadata": {},
   "source": [
    "# Load training and testing data"
   ]
  },
  {
   "cell_type": "code",
   "execution_count": 5,
   "id": "59871029-5918-4eb7-98ea-6db19a60402f",
   "metadata": {},
   "outputs": [
    {
     "name": "stdout",
     "output_type": "stream",
     "text": [
      "Batch 0 image sizes: torch.Size([25, 224, 224, 3])\n"
     ]
    }
   ],
   "source": [
    "import os\n",
    "from torchvision import datasets, transforms\n",
    "from torch.utils.data import DataLoader\n",
    "\n",
    "# Directories for each client\n",
    "split_dirs = [\n",
    "    \"Federated_Learning_NON_IID/Model_1\",\n",
    "    \"Federated_Learning_NON_IID/Model_2\",\n",
    "    \"Federated_Learning_NON_IID/Model_3\",\n",
    "    \"Federated_Learning_NON_IID/Model_4\"\n",
    "]\n",
    "\n",
    "# Number of clients\n",
    "n_clients = len(split_dirs)\n",
    "\n",
    "# Updated image transformations: Normalize first, then permute\n",
    "transform = transforms.Compose([\n",
    "    transforms.Resize((224, 224)),  # Resize images to 224x224\n",
    "    transforms.ToTensor(),          # Convert image to tensor format (C, H, W)\n",
    "    transforms.Normalize(mean=[0.485, 0.456, 0.406], std=[0.229, 0.224, 0.225]),  # Normalize\n",
    "    transforms.Lambda(lambda x: x.permute(1, 2, 0))  # Permute to (H, W, C)\n",
    "])\n",
    "\n",
    "def get_tumor_dataloaders(split_dirs, batch_size=25, shuffle=True):\n",
    "    \"\"\"\n",
    "    Returns data loaders for all clients for both training and testing sets.\n",
    "    \"\"\"\n",
    "    tumor_iid_train_dls = []\n",
    "    tumor_iid_test_dls = []\n",
    "\n",
    "    for client_idx, client_dir in enumerate(split_dirs):\n",
    "        # Get the directory for the current client\n",
    "        train_dir = os.path.join(client_dir, 'train')\n",
    "        test_dir = os.path.join(client_dir, 'test')\n",
    "\n",
    "        # Check if the directories exist\n",
    "        if not os.path.exists(train_dir) or not os.path.exists(test_dir):\n",
    "            print(f\"Directory not found for client {client_idx + 1}:\")\n",
    "            print(f\"Train dir: {train_dir}\")\n",
    "            print(f\"Test dir: {test_dir}\")\n",
    "            continue\n",
    "\n",
    "        # Load training data for the current client\n",
    "        train_dataset = datasets.ImageFolder(train_dir, transform=transform)\n",
    "        train_loader = DataLoader(train_dataset, batch_size=batch_size, shuffle=shuffle)\n",
    "\n",
    "        # Load testing data for the current client\n",
    "        test_dataset = datasets.ImageFolder(test_dir, transform=transform)\n",
    "        test_loader = DataLoader(test_dataset, batch_size=batch_size, shuffle=False)\n",
    "\n",
    "        # Append the dataloaders for the current client to the list\n",
    "        tumor_iid_train_dls.append(train_loader)\n",
    "        tumor_iid_test_dls.append(test_loader)\n",
    "\n",
    "    return tumor_iid_train_dls, tumor_iid_test_dls\n",
    "\n",
    "# Get the training and testing data loaders\n",
    "Tumor_iid_train_dls, Tumor_iid_test_dls = get_tumor_dataloaders(split_dirs, batch_size=25)\n",
    "\n",
    "# Checking the sizes of the images in the data loaders to verify the shape\n",
    "for batch_idx, (images, labels) in enumerate(Tumor_iid_train_dls[0]):  # Checking for client 1\n",
    "    print(f\"Batch {batch_idx} image sizes: {images.size()}\")  # Should print torch.Size([25, 224, 224, 3])\n",
    "    break  # Check only the first batch\n"
   ]
  },
  {
   "cell_type": "markdown",
   "id": "31af50da-4989-4e23-9387-fbd8f73b5304",
   "metadata": {},
   "source": [
    "# Note : \n",
    "### firest ResNet model trained for 20 rounds and saved that model\n",
    "### Again train the saved model for 30 rounds.\n",
    "### remaining 50 rounds will be implemnted here"
   ]
  },
  {
   "cell_type": "markdown",
   "id": "1b6022b9-230b-4c91-af9e-e68f1205903c",
   "metadata": {},
   "source": [
    "# Implementation FL for (50 to 100) rounds"
   ]
  },
  {
   "cell_type": "code",
   "execution_count": 6,
   "id": "80d10cb9-8a59-4283-9739-63d3be25588b",
   "metadata": {},
   "outputs": [
    {
     "name": "stderr",
     "output_type": "stream",
     "text": [
      "2024-11-17 17:46:30.494352: I tensorflow/core/common_runtime/gpu/gpu_device.cc:1635] Created device /job:localhost/replica:0/task:0/device:GPU:0 with 30302 MB memory:  -> device: 0, name: Tesla V100-SXM2-32GB, pci bus id: 0000:89:00.0, compute capability: 7.0\n"
     ]
    },
    {
     "name": "stdout",
     "output_type": "stream",
     "text": [
      "Starting rounds 81 to 90\n",
      "Clients' weights: [0.22620689655172413, 0.2303448275862069, 0.2868965517241379, 0.25655172413793104]\n"
     ]
    },
    {
     "name": "stderr",
     "output_type": "stream",
     "text": [
      "2024-11-17 17:46:37.645156: I tensorflow/compiler/xla/stream_executor/cuda/cuda_dnn.cc:424] Loaded cuDNN version 8700\n",
      "2024-11-17 17:46:41.204983: I tensorflow/compiler/xla/service/service.cc:169] XLA service 0x2264dcd0 initialized for platform CUDA (this does not guarantee that XLA will be used). Devices:\n",
      "2024-11-17 17:46:41.205021: I tensorflow/compiler/xla/service/service.cc:177]   StreamExecutor device (0): Tesla V100-SXM2-32GB, Compute Capability 7.0\n",
      "2024-11-17 17:46:41.287144: I ./tensorflow/compiler/jit/device_compiler.h:180] Compiled cluster using XLA!  This line is logged at most once for the lifetime of the process.\n"
     ]
    },
    {
     "name": "stdout",
     "output_type": "stream",
     "text": [
      "WARNING:tensorflow:5 out of the last 5 calls to <function _BaseOptimizer._update_step_xla at 0x7f1b0443d700> triggered tf.function retracing. Tracing is expensive and the excessive number of tracings could be due to (1) creating @tf.function repeatedly in a loop, (2) passing tensors with different shapes, (3) passing Python objects instead of tensors. For (1), please define your @tf.function outside of the loop. For (2), @tf.function has reduce_retracing=True option that can avoid unnecessary retracing. For (3), please refer to https://www.tensorflow.org/guide/function#controlling_retracing and https://www.tensorflow.org/api_docs/python/tf/function for  more details.\n",
      "WARNING:tensorflow:6 out of the last 6 calls to <function _BaseOptimizer._update_step_xla at 0x7f1b0443d700> triggered tf.function retracing. Tracing is expensive and the excessive number of tracings could be due to (1) creating @tf.function repeatedly in a loop, (2) passing tensors with different shapes, (3) passing Python objects instead of tensors. For (1), please define your @tf.function outside of the loop. For (2), @tf.function has reduce_retracing=True option that can avoid unnecessary retracing. For (3), please refer to https://www.tensorflow.org/guide/function#controlling_retracing and https://www.tensorflow.org/api_docs/python/tf/function for  more details.\n",
      "====> i: 1 Server Test Accuracy: [75.0, 74.52380952380952, 78.92156862745098, 87.83333333333333]\n",
      "====> i: 2 Server Test Accuracy: [73.57142857142857, 72.73809523809524, 79.6078431372549, 85.33333333333333]\n",
      "====> i: 3 Server Test Accuracy: [75.83333333333333, 74.64285714285714, 80.88235294117646, 88.16666666666667]\n",
      "====> i: 4 Server Test Accuracy: [76.07142857142857, 75.11904761904762, 81.96078431372548, 87.0]\n",
      "====> i: 5 Server Test Accuracy: [76.30952380952381, 74.76190476190476, 80.98039215686275, 90.33333333333333]\n",
      "====> i: 6 Server Test Accuracy: [76.42857142857143, 74.88095238095238, 81.27450980392157, 89.33333333333333]\n",
      "====> i: 7 Server Test Accuracy: [75.5952380952381, 75.0, 78.13725490196079, 89.5]\n",
      "====> i: 8 Server Test Accuracy: [75.47619047619048, 74.64285714285714, 78.92156862745098, 89.33333333333333]\n",
      "====> i: 9 Server Test Accuracy: [73.92857142857143, 74.4047619047619, 78.62745098039215, 87.16666666666667]\n",
      "====> i: 10 Server Test Accuracy: [76.19047619047619, 75.0, 78.92156862745098, 88.16666666666667]\n",
      "Model saved at: global_model_keras/global_model_rounds_80.h5global_model_rounds_90.h5\n",
      "Starting rounds 91 to 100\n",
      "Clients' weights: [0.22620689655172413, 0.2303448275862069, 0.2868965517241379, 0.25655172413793104]\n",
      "====> i: 1 Server Test Accuracy: [77.5, 73.92857142857143, 81.07843137254902, 90.0]\n",
      "====> i: 2 Server Test Accuracy: [75.23809523809524, 74.16666666666667, 78.52941176470588, 87.33333333333333]\n",
      "====> i: 3 Server Test Accuracy: [74.04761904761905, 73.69047619047619, 79.01960784313725, 88.66666666666667]\n",
      "====> i: 4 Server Test Accuracy: [73.69047619047619, 74.64285714285714, 78.13725490196079, 88.5]\n",
      "====> i: 5 Server Test Accuracy: [75.5952380952381, 75.23809523809524, 80.09803921568627, 90.0]\n",
      "====> i: 6 Server Test Accuracy: [74.04761904761905, 73.69047619047619, 79.50980392156863, 89.16666666666667]\n",
      "====> i: 7 Server Test Accuracy: [74.16666666666667, 73.92857142857143, 80.0, 89.33333333333333]\n",
      "====> i: 8 Server Test Accuracy: [70.35714285714286, 73.33333333333333, 76.07843137254902, 83.83333333333333]\n",
      "====> i: 9 Server Test Accuracy: [74.88095238095238, 73.92857142857143, 79.70588235294117, 88.0]\n",
      "====> i: 10 Server Test Accuracy: [76.42857142857143, 74.52380952380952, 80.88235294117646, 90.16666666666667]\n",
      "Model saved at: global_model_keras/global_model_rounds_80.h5global_model_rounds_100.h5\n"
     ]
    }
   ],
   "source": [
    "# Initial parameters\n",
    "MODEL_PATH = 'global_model_keras/global_model_rounds_80.h5'\n",
    "n_iter = 100\n",
    "rounds_per_segment = 10\n",
    "mu = 0.4\n",
    "epochs = 1\n",
    "lr = 0.001\n",
    "\n",
    "# Initialize lists to store cumulative training and testing metrics\n",
    "all_train_loss = []\n",
    "all_train_acc = []\n",
    "all_test_loss = []\n",
    "all_test_acc = []\n",
    "# Load the initial model\n",
    "model = tf.keras.models.load_model(MODEL_PATH)\n",
    "\n",
    "# Function for FedProx training in segments\n",
    "for i in range(80, n_iter, rounds_per_segment):\n",
    "    print(f\"Starting rounds {i+1} to {i+rounds_per_segment}\")\n",
    "    \n",
    "    # Train for the specified number of rounds in this segment\n",
    "    model, train_loss_f, train_acc_f, test_loss_f, test_acc_f = FedProx(\n",
    "        model, Tumor_iid_train_dls, rounds_per_segment, Tumor_iid_test_dls, mu=mu, epochs=epochs, lr=lr\n",
    "    )\n",
    "    \n",
    "    # Append the metrics to the cumulative lists\n",
    "    all_train_loss.extend(train_loss_f)\n",
    "    all_train_acc.extend(train_acc_f)\n",
    "    all_test_loss.extend(test_loss_f)\n",
    "    all_test_acc.extend(test_acc_f)\n",
    "    \n",
    "    # Save the model at the end of each segment\n",
    "    segment_model_path = f'{MODEL_PATH}global_model_rounds_{i+rounds_per_segment}.h5'\n",
    "    model.save(segment_model_path)\n",
    "    print(f\"Model saved at: {segment_model_path}\")\n",
    "\n",
    "    # Reload the model to ensure continuity for the next segment\n",
    "    model = tf.keras.models.load_model(segment_model_path)\n",
    "\n",
    "    "
   ]
  },
  {
   "cell_type": "markdown",
   "id": "d09c50a8-b266-4ca9-bdfb-3a10ee26aa4d",
   "metadata": {},
   "source": [
    "# Save the results in text file"
   ]
  },
  {
   "cell_type": "code",
   "execution_count": 7,
   "id": "2b8d7656-04de-447f-a9df-18c16feddb7d",
   "metadata": {},
   "outputs": [
    {
     "name": "stdout",
     "output_type": "stream",
     "text": [
      "History saved to results-mu=0.4_81_to_100_rounds.txt\n"
     ]
    }
   ],
   "source": [
    "# Save the cumulative history to a file after all rounds are complete\n",
    "train_loss = all_train_loss[-20:]  # Adjusted to reflect 30 rounds for rounds 51 to 80\n",
    "train_acc = all_train_acc[-20:]\n",
    "test_loss = all_test_loss[-20:]\n",
    "test_acc = all_test_acc[-20:]\n",
    "\n",
    "# Save the history to a file\n",
    "def save_history_to_file(filename, train_loss, train_acc, test_loss, test_acc):\n",
    "    with open(filename, \"w\") as f:\n",
    "        f.write(\"FedProx Training and Testing Metrics\\n\")\n",
    "        f.write(\"=\" * 50 + \"\\n\")\n",
    "        \n",
    "        for i in range(len(train_loss)):\n",
    "            try:\n",
    "                train_loss_val = float(train_loss[i][0]) if isinstance(train_loss[i], list) else float(train_loss[i])\n",
    "                train_acc_val = float(train_acc[i][0]) if isinstance(train_acc[i], list) else float(train_acc[i])\n",
    "                test_loss_val = float(test_loss[i][0]) if isinstance(test_loss[i], list) else float(test_loss[i])\n",
    "                test_acc_val = float(test_acc[i][0]) if isinstance(test_acc[i], list) else float(test_acc[i])\n",
    "                \n",
    "                f.write(f\"Round {i + 81}:\\n\")  # Adjusted to start from round 51\n",
    "                f.write(f\"Train Loss: {train_loss_val:.4f}\\n\")\n",
    "                f.write(f\"Train Accuracy: {train_acc_val:.4f}\\n\")\n",
    "                f.write(f\"Test Loss: {test_loss_val:.4f}\\n\")\n",
    "                f.write(f\"Test Accuracy: {test_acc_val:.4f}\\n\")\n",
    "                f.write(\"-\" * 50 + \"\\n\")\n",
    "                \n",
    "            except (ValueError, TypeError) as e:\n",
    "                f.write(f\"Error processing round {i + 51}: {e}\\n\")\n",
    "                f.write(\"-\" * 50 + \"\\n\")\n",
    "    \n",
    "    print(f\"History saved to {filename}\")\n",
    "\n",
    "# File to save the results\n",
    "output_file = \"results-mu=0.4_81_to_100_rounds.txt\"\n",
    "\n",
    "# Save the data to the file\n",
    "save_history_to_file(output_file, train_loss, train_acc, test_loss, test_acc)\n"
   ]
  },
  {
   "cell_type": "code",
   "execution_count": 8,
   "id": "ae8b9a26-7781-4df9-af9d-6b6541f3b3b1",
   "metadata": {},
   "outputs": [
    {
     "name": "stdout",
     "output_type": "stream",
     "text": [
      "History saved to results-mu=0.4_81_to_100.txt\n"
     ]
    }
   ],
   "source": [
    "# Save the cumulative history to a file after all rounds are complete\n",
    "train_loss = all_train_loss[-20:]  # Adjusted to reflect 30 rounds for rounds 51 to 80\n",
    "train_acc = all_train_acc[-20:]\n",
    "test_loss = all_test_loss[-20:]\n",
    "test_acc = all_test_acc[-20:]\n",
    "\n",
    "# Save the history to a file with detailed formatting\n",
    "def save_history_to_file(filename, train_loss, train_acc, test_loss, test_acc):\n",
    "    with open(filename, \"w\") as f:\n",
    "        f.write(\"FedProx Training and Testing Metrics\\n\")\n",
    "        f.write(\"=\" * 50 + \"\\n\")\n",
    "        \n",
    "        for i in range(len(train_loss)):\n",
    "            try:\n",
    "                # Ensure data is printed in the format shown, converting Tensors to their numpy values if needed\n",
    "                train_loss_str = [float(tensor.numpy()) if hasattr(tensor, 'numpy') else float(tensor) for tensor in train_loss[i]]\n",
    "                train_acc_str = [float(val) for val in train_acc[i]]\n",
    "                test_loss_str = [float(val) for val in test_loss[i]]\n",
    "                test_acc_str = [float(val) for val in test_acc[i]]\n",
    "                \n",
    "                f.write(f\"Iteration {i + 81}:\\n\")\n",
    "                f.write(f\"Train Loss: {train_loss_str}\\n\")\n",
    "                f.write(f\"Train Accuracy: {train_acc_str}\\n\")\n",
    "                f.write(f\"Test Loss: {test_loss_str}\\n\")\n",
    "                f.write(f\"Test Accuracy: {test_acc_str}\\n\")\n",
    "                f.write(\"-\" * 50 + \"\\n\")\n",
    "                \n",
    "            except (ValueError, TypeError) as e:\n",
    "                f.write(f\"Error processing round {i + 51}: {e}\\n\")\n",
    "                f.write(\"-\" * 50 + \"\\n\")\n",
    "    \n",
    "    print(f\"History saved to {filename}\")\n",
    "\n",
    "# File to save the results\n",
    "output_file = \"results-mu=0.4_81_to_100.txt\"\n",
    "\n",
    "# Save the data to the file\n",
    "save_history_to_file(output_file, train_loss, train_acc, test_loss, test_acc)\n"
   ]
  },
  {
   "cell_type": "code",
   "execution_count": 6,
   "id": "9f484c7d-5513-44d1-a49d-bbc493cdabc8",
   "metadata": {},
   "outputs": [
    {
     "name": "stderr",
     "output_type": "stream",
     "text": [
      "2024-11-18 14:26:16.492603: I tensorflow/core/common_runtime/gpu/gpu_device.cc:1635] Created device /job:localhost/replica:0/task:0/device:GPU:0 with 20716 MB memory:  -> device: 0, name: Tesla V100-SXM2-32GB, pci bus id: 0000:89:00.0, compute capability: 7.0\n"
     ]
    }
   ],
   "source": [
    "MODEL_PATH = 'global_model_keras/'\n",
    "model = tf.keras.models.load_model(MODEL_PATH)"
   ]
  },
  {
   "cell_type": "code",
   "execution_count": 7,
   "id": "69fd4bbf-a4d9-46a1-b1aa-25ebda1dac07",
   "metadata": {},
   "outputs": [
    {
     "name": "stdout",
     "output_type": "stream",
     "text": [
      "Clients' weights: [0.22620689655172413, 0.2303448275862069, 0.2868965517241379, 0.25655172413793104]\n"
     ]
    },
    {
     "name": "stderr",
     "output_type": "stream",
     "text": [
      "2024-11-18 14:26:28.094125: I tensorflow/compiler/xla/stream_executor/cuda/cuda_dnn.cc:424] Loaded cuDNN version 8700\n",
      "2024-11-18 14:26:31.161960: I tensorflow/compiler/xla/service/service.cc:169] XLA service 0x2ca14ed0 initialized for platform CUDA (this does not guarantee that XLA will be used). Devices:\n",
      "2024-11-18 14:26:31.161987: I tensorflow/compiler/xla/service/service.cc:177]   StreamExecutor device (0): Tesla V100-SXM2-32GB, Compute Capability 7.0\n",
      "2024-11-18 14:26:31.234761: I ./tensorflow/compiler/jit/device_compiler.h:180] Compiled cluster using XLA!  This line is logged at most once for the lifetime of the process.\n"
     ]
    },
    {
     "name": "stdout",
     "output_type": "stream",
     "text": [
      "WARNING:tensorflow:5 out of the last 5 calls to <function _BaseOptimizer._update_step_xla at 0x7fc87c1b2430> triggered tf.function retracing. Tracing is expensive and the excessive number of tracings could be due to (1) creating @tf.function repeatedly in a loop, (2) passing tensors with different shapes, (3) passing Python objects instead of tensors. For (1), please define your @tf.function outside of the loop. For (2), @tf.function has reduce_retracing=True option that can avoid unnecessary retracing. For (3), please refer to https://www.tensorflow.org/guide/function#controlling_retracing and https://www.tensorflow.org/api_docs/python/tf/function for  more details.\n",
      "WARNING:tensorflow:6 out of the last 6 calls to <function _BaseOptimizer._update_step_xla at 0x7fc87c1b2430> triggered tf.function retracing. Tracing is expensive and the excessive number of tracings could be due to (1) creating @tf.function repeatedly in a loop, (2) passing tensors with different shapes, (3) passing Python objects instead of tensors. For (1), please define your @tf.function outside of the loop. For (2), @tf.function has reduce_retracing=True option that can avoid unnecessary retracing. For (3), please refer to https://www.tensorflow.org/guide/function#controlling_retracing and https://www.tensorflow.org/api_docs/python/tf/function for  more details.\n",
      "====> i: 1 Server Test Accuracy: [67.02380952380952, 58.69047619047619, 68.72549019607843, 78.33333333333333]\n",
      "====> i: 2 Server Test Accuracy: [69.64285714285714, 58.214285714285715, 65.98039215686275, 80.0]\n",
      "====> i: 3 Server Test Accuracy: [69.76190476190476, 63.57142857142857, 72.6470588235294, 82.5]\n",
      "====> i: 4 Server Test Accuracy: [72.61904761904762, 64.52380952380952, 73.33333333333333, 85.33333333333333]\n",
      "====> i: 5 Server Test Accuracy: [72.5, 64.28571428571429, 72.3529411764706, 84.33333333333333]\n",
      "====> i: 6 Server Test Accuracy: [65.95238095238095, 64.88095238095238, 74.50980392156863, 79.0]\n",
      "====> i: 7 Server Test Accuracy: [74.88095238095238, 66.54761904761905, 80.3921568627451, 86.66666666666667]\n",
      "====> i: 8 Server Test Accuracy: [68.33333333333333, 62.142857142857146, 71.76470588235294, 80.0]\n",
      "====> i: 9 Server Test Accuracy: [72.26190476190476, 62.976190476190474, 72.54901960784314, 81.83333333333333]\n",
      "====> i: 10 Server Test Accuracy: [75.5952380952381, 67.26190476190476, 76.76470588235294, 86.5]\n",
      "====> i: 11 Server Test Accuracy: [72.5, 63.80952380952381, 72.3529411764706, 81.83333333333333]\n",
      "====> i: 12 Server Test Accuracy: [69.76190476190476, 67.97619047619048, 76.56862745098039, 80.33333333333333]\n",
      "====> i: 13 Server Test Accuracy: [64.16666666666667, 65.83333333333333, 73.13725490196079, 76.0]\n",
      "====> i: 14 Server Test Accuracy: [68.33333333333333, 60.0, 72.05882352941177, 77.0]\n",
      "====> i: 15 Server Test Accuracy: [72.85714285714286, 66.66666666666667, 75.29411764705883, 83.16666666666667]\n"
     ]
    }
   ],
   "source": [
    "n_iter = 15\n",
    "# Execute FedProx with the new 4-client setup\n",
    "model_f, train_loss_f, train_acc_f, test_loss_f, test_acc_f = FedProx(\n",
    "    model, Tumor_iid_train_dls, n_iter, Tumor_iid_test_dls, mu=0.4, epochs=1, lr=0.001\n",
    ")"
   ]
  },
  {
   "cell_type": "code",
   "execution_count": 9,
   "id": "09a790dc-e55c-4728-89ea-02eaf39b7813",
   "metadata": {},
   "outputs": [
    {
     "name": "stdout",
     "output_type": "stream",
     "text": [
      "History saved to results-mu=0.4_1_to_15.txt\n"
     ]
    }
   ],
   "source": [
    "# Save the cumulative history to a file after all rounds are complete\n",
    "train_loss = train_loss_f[-15:]  # Adjusted to reflect 30 rounds for rounds 51 to 80\n",
    "train_acc = train_acc_f[-15:]\n",
    "test_loss = test_loss_f[-15:]\n",
    "test_acc = test_acc_f[-15:]\n",
    "\n",
    "# Save the history to a file with detailed formatting\n",
    "def save_history_to_file(filename, train_loss, train_acc, test_loss, test_acc):\n",
    "    with open(filename, \"w\") as f:\n",
    "        f.write(\"FedProx Training and Testing Metrics\\n\")\n",
    "        f.write(\"=\" * 50 + \"\\n\")\n",
    "        \n",
    "        for i in range(len(train_loss)):\n",
    "            try:\n",
    "                # Ensure data is printed in the format shown, converting Tensors to their numpy values if needed\n",
    "                train_loss_str = [float(tensor.numpy()) if hasattr(tensor, 'numpy') else float(tensor) for tensor in train_loss[i]]\n",
    "                train_acc_str = [float(val) for val in train_acc[i]]\n",
    "                test_loss_str = [float(val) for val in test_loss[i]]\n",
    "                test_acc_str = [float(val) for val in test_acc[i]]\n",
    "                \n",
    "                f.write(f\"Iteration {i + 1}:\\n\")\n",
    "                f.write(f\"Train Loss: {train_loss_str}\\n\")\n",
    "                f.write(f\"Train Accuracy: {train_acc_str}\\n\")\n",
    "                f.write(f\"Test Loss: {test_loss_str}\\n\")\n",
    "                f.write(f\"Test Accuracy: {test_acc_str}\\n\")\n",
    "                f.write(\"-\" * 50 + \"\\n\")\n",
    "                \n",
    "            except (ValueError, TypeError) as e:\n",
    "                f.write(f\"Error processing round {i + 51}: {e}\\n\")\n",
    "                f.write(\"-\" * 50 + \"\\n\")\n",
    "    \n",
    "    print(f\"History saved to {filename}\")\n",
    "\n",
    "# File to save the results\n",
    "output_file = \"results-mu=0.4_1_to_15.txt\"\n",
    "\n",
    "# Save the data to the file\n",
    "save_history_to_file(output_file, train_loss, train_acc, test_loss, test_acc)\n"
   ]
  },
  {
   "cell_type": "code",
   "execution_count": 10,
   "id": "c34cbbf1-f70f-43b0-ac2e-e381fad470c5",
   "metadata": {},
   "outputs": [
    {
     "name": "stdout",
     "output_type": "stream",
     "text": [
      "Model saved at: global_model_keras/global_model_rounds_1_to_15.h5\n"
     ]
    }
   ],
   "source": [
    "# Save the model at the end of each segment\n",
    "segment_model_path = f'{MODEL_PATH}global_model_rounds_1_to_15.h5'\n",
    "model_f.save(segment_model_path)\n",
    "print(f\"Model saved at: {segment_model_path}\")"
   ]
  },
  {
   "cell_type": "code",
   "execution_count": 11,
   "id": "f640ee4d-4c5c-49d1-abc1-722560d489f5",
   "metadata": {},
   "outputs": [
    {
     "name": "stdout",
     "output_type": "stream",
     "text": [
      "__________________Training complete and results saved__________________\n"
     ]
    }
   ],
   "source": [
    "print(\"__________________Training complete and results saved__________________\")"
   ]
  },
  {
   "cell_type": "code",
   "execution_count": 2,
   "id": "b0d10849-3bf4-4eb0-835e-2cb0ae7b3251",
   "metadata": {},
   "outputs": [],
   "source": [
    "import torch\n",
    "from torchvision import datasets, transforms\n",
    "from torch.utils.data import DataLoader\n",
    "import tensorflow as tf\n",
    "from sklearn.metrics import confusion_matrix, f1_score, accuracy_score, precision_score, recall_score, classification_report\n",
    "import numpy as np\n",
    "import os\n",
    "\n",
    "# Define transformations\n",
    "transform = transforms.Compose([\n",
    "    transforms.Resize((224, 224)),  # Resize images to 224x224\n",
    "    transforms.ToTensor(),          # Convert image to tensor format (C, H, W)\n",
    "    transforms.Normalize(mean=[0.485, 0.456, 0.406], std=[0.229, 0.224, 0.225]),  # Normalize\n",
    "    transforms.Lambda(lambda x: x.permute(1, 2, 0))  # Permute to (H, W, C)\n",
    "])\n",
    "\n",
    "# Load the testing dataset\n",
    "test_dir = 'BrainTumor_MRI/Testing'\n",
    "test_dataset = datasets.ImageFolder(test_dir, transform=transform)\n",
    "test_loader = DataLoader(test_dataset, batch_size=32, shuffle=False)\n",
    "\n",
    "# Class names mapping (adjust if necessary)\n",
    "class_names = test_dataset.classes"
   ]
  },
  {
   "cell_type": "code",
   "execution_count": 14,
   "id": "c0f2d96f-fb10-4ae0-80de-280ea55d157f",
   "metadata": {},
   "outputs": [],
   "source": [
    "# Define class names\n",
    "class_names = [\"glioma\", \"meningioma\", \"notumor\", \"pituitary\"]  # Modify according to your classes\n",
    "\n",
    "# Function to evaluate the global model on the testing dataset\n",
    "def evaluate_global_model(model, test_loader, output_file=\"Global_Model_Results.txt\"):\n",
    "    import os\n",
    "\n",
    "    all_preds = []\n",
    "    all_labels = []\n",
    "    total_loss = 0\n",
    "\n",
    "    for features, labels in test_loader:\n",
    "        # Convert to TensorFlow tensors\n",
    "        features_np = features.detach().cpu().numpy()\n",
    "        labels_np = labels.detach().cpu().numpy()\n",
    "\n",
    "        features_tf = tf.convert_to_tensor(features_np, dtype=tf.float32)\n",
    "        labels_tf = tf.convert_to_tensor(labels_np, dtype=tf.int32)\n",
    "\n",
    "        # Get predictions\n",
    "        predictions = model(features_tf)\n",
    "        predicted = tf.argmax(predictions, axis=1, output_type=tf.int32)\n",
    "\n",
    "        # Accumulate predictions and labels\n",
    "        all_preds.extend(predicted.numpy())\n",
    "        all_labels.extend(labels_np)\n",
    "\n",
    "        # Compute loss\n",
    "        loss = tf.nn.sparse_softmax_cross_entropy_with_logits(labels=labels_tf, logits=predictions)\n",
    "        total_loss += tf.reduce_mean(loss).numpy()\n",
    "\n",
    "    # Compute metrics\n",
    "    accuracy = accuracy_score(all_labels, all_preds)\n",
    "    precision = precision_score(all_labels, all_preds, average='weighted')\n",
    "    recall = recall_score(all_labels, all_preds, average='weighted')\n",
    "    f1 = f1_score(all_labels, all_preds, average='weighted')\n",
    "    conf_matrix = confusion_matrix(all_labels, all_preds)\n",
    "\n",
    "    # Classification report\n",
    "    classification_report_str = classification_report(all_labels, all_preds, target_names=class_names)\n",
    "\n",
    "    # Append metrics to a file\n",
    "    with open(output_file, \"a\") as file:\n",
    "        file.write(\"Evaluation Metrics:\\n\")\n",
    "        file.write(f\"Accuracy: {accuracy * 100:.2f}%\\n\")\n",
    "        file.write(f\"Loss: {total_loss / len(test_loader):.4f}\\n\")\n",
    "        file.write(f\"Precision: {precision:.4f}\\n\")\n",
    "        file.write(f\"Recall: {recall:.4f}\\n\")\n",
    "        file.write(f\"F1 Score: {f1:.4f}\\n\\n\")\n",
    "        file.write(\"Classification Report:\\n\")\n",
    "        file.write(classification_report_str)\n",
    "        file.write(\"\\nConfusion Matrix:\\n\")\n",
    "        file.write(\"\\n\".join([\"\\t\".join(map(str, row)) for row in conf_matrix]))\n",
    "        file.write(\"\\n\" + \"-\" * 50 + \"\\n\")\n",
    "\n",
    "    # Print metrics\n",
    "    print(\"\\nClassification Report:\\n\", classification_report_str)\n",
    "    print(f\"\\nAccuracy: {accuracy * 100:.2f}%\")\n",
    "    print(f\"Loss: {total_loss / len(test_loader):.4f}\")\n",
    "    print(f\"Precision: {precision:.4f}\")\n",
    "    print(f\"Recall: {recall:.4f}\")\n",
    "    print(f\"F1 Score: {f1:.4f}\")\n",
    "\n",
    "    # Plot and save heatmap\n",
    "    plt.figure(figsize=(10, 7))\n",
    "    sns.heatmap(conf_matrix, annot=True, fmt='d', cmap='Blues', xticklabels=class_names, yticklabels=class_names)\n",
    "    plt.xlabel('Predicted Labels')\n",
    "    plt.ylabel('True Labels')\n",
    "    plt.title('Confusion Matrix')\n",
    "    plt.savefig('confusion_matrix.png')  # Save as PNG\n",
    "    plt.close()  # Close the figure\n"
   ]
  },
  {
   "cell_type": "code",
   "execution_count": 15,
   "id": "798d7ad3-1001-4449-a353-4077e1b0a6b4",
   "metadata": {},
   "outputs": [],
   "source": [
    "MODEL_PATH = 'global_model_keras/global_model_rounds_100.h5'\n",
    "model = tf.keras.models.load_model(MODEL_PATH)\n",
    "\n",
    "# model_names = [\"global_model_keras/global_model_rounds_20.h5\",\n",
    "#                \"global_model_keras/global_model_rounds_60.h5\",\n",
    "#                \"global_model_keras/global_model_rounds_80.h5\",\n",
    "#                \"global_model_keras/global_model_rounds_100.h5\"]\n"
   ]
  },
  {
   "cell_type": "code",
   "execution_count": 16,
   "id": "61cf0507-2486-4860-a603-736652834f01",
   "metadata": {},
   "outputs": [
    {
     "name": "stdout",
     "output_type": "stream",
     "text": [
      "\n",
      "Classification Report:\n",
      "               precision    recall  f1-score   support\n",
      "\n",
      "      glioma       0.88      0.88      0.88       300\n",
      "  meningioma       0.87      0.82      0.84       306\n",
      "     notumor       0.98      0.98      0.98       405\n",
      "   pituitary       0.91      0.96      0.93       300\n",
      "\n",
      "    accuracy                           0.91      1311\n",
      "   macro avg       0.91      0.91      0.91      1311\n",
      "weighted avg       0.91      0.91      0.91      1311\n",
      "\n",
      "\n",
      "Accuracy: 91.46%\n",
      "Loss: 0.8288\n",
      "Precision: 0.9141\n",
      "Recall: 0.9146\n",
      "F1 Score: 0.9141\n"
     ]
    }
   ],
   "source": [
    "# Evaluate the model on the testing dataset\n",
    "evaluate_global_model(model, test_loader)"
   ]
  },
  {
   "cell_type": "code",
   "execution_count": 13,
   "id": "4f8692e8-6bd7-447c-acc0-e214c2e36010",
   "metadata": {},
   "outputs": [],
   "source": [
    "import matplotlib.pyplot as plt\n",
    "\n",
    "# Data: Metrics for different rounds (example values, replace with actual data)\n",
    "rounds = [20, 60, 80, 100]\n",
    "accuracies = [87.49, 90.69, 90.92, 91.46]\n",
    "losses = [0.8670, 0.8367, 0.8369, 0.8288]\n",
    "recalls = [87.49, 90.69, 90.92, 91.46]  # Same as accuracies since recall = accuracy in weighted average here\n",
    "f1_scores = [87.19, 90.66, 90.88, 91.41]\n",
    "\n",
    "# Plot Accuracy\n",
    "plt.figure(figsize=(10, 5))\n",
    "plt.plot(rounds, accuracies, marker='o', linestyle='-', color='b', label='Accuracy')\n",
    "plt.title('Accuracy of global model with mu=0.4')\n",
    "plt.xlabel('Rounds')\n",
    "plt.ylabel('Accuracy (%)')\n",
    "plt.xticks(rounds)\n",
    "plt.grid(True)\n",
    "plt.legend()\n",
    "plt.savefig('accuracy_over_rounds.png')  # Save plot as PNG\n",
    "plt.close()  # Close the figure to avoid overlap\n",
    "\n",
    "# Plot Loss\n",
    "plt.figure(figsize=(10, 5))\n",
    "plt.plot(rounds, losses, marker='o', linestyle='-', color='r', label='Loss')\n",
    "plt.title('Loss of global model with mu=0.4')\n",
    "plt.xlabel('Rounds')\n",
    "plt.ylabel('Loss')\n",
    "plt.xticks(rounds)\n",
    "plt.grid(True)\n",
    "plt.legend()\n",
    "plt.savefig('loss_over_rounds.png')  # Save plot as PNG\n",
    "plt.close()\n",
    "\n",
    "# Plot Recall\n",
    "plt.figure(figsize=(10, 5))\n",
    "plt.plot(rounds, recalls, marker='o', linestyle='-', color='g', label='Recall')\n",
    "plt.title('Recall of global model with mu=0.4')\n",
    "plt.xlabel('Rounds')\n",
    "plt.ylabel('Recall (%)')\n",
    "plt.xticks(rounds)\n",
    "plt.grid(True)\n",
    "plt.legend()\n",
    "plt.savefig('recall_over_rounds.png')  # Save plot as PNG\n",
    "plt.close()\n",
    "\n",
    "# Plot F1 Score\n",
    "plt.figure(figsize=(10, 5))\n",
    "plt.plot(rounds, f1_scores, marker='o', linestyle='-', color='m', label='F1 Score')\n",
    "plt.title('F1 of global model with mu=0.4')\n",
    "plt.xlabel('Rounds')\n",
    "plt.ylabel('F1 Score (%)')\n",
    "plt.xticks(rounds)\n",
    "plt.grid(True)\n",
    "plt.legend()\n",
    "plt.savefig('f1_score_over_rounds.png')  # Save plot as PNG\n",
    "plt.close()\n"
   ]
  },
  {
   "cell_type": "code",
   "execution_count": 6,
   "id": "95be10c5-18cd-4dd8-beea-57b40dd7c8ff",
   "metadata": {},
   "outputs": [],
   "source": [
    "import tensorflow as tf\n",
    "from tensorflow.keras.preprocessing.image import load_img, img_to_array\n",
    "from tensorflow.keras.applications.vgg19 import preprocess_input\n",
    "import numpy as np\n",
    "\n",
    "# Define class names\n",
    "class_names = ['glioma', 'meningioma', 'notumor', 'pituitary']\n",
    "\n",
    "# Function to predict the class of a single image\n",
    "def predict_image(image_path, model):\n",
    "    # Load and preprocess the image\n",
    "    image = load_img(image_path, target_size=(224, 224))  # Resize to 224x224\n",
    "    image_array = img_to_array(image)  # Convert to numpy array\n",
    "    image_array = np.expand_dims(image_array, axis=0)  # Add batch dimension\n",
    "    image_array = preprocess_input(image_array)  # Normalize for VGG19\n",
    "\n",
    "    # Perform inference\n",
    "    predictions = model(image_array, training=False)  # Inference mode\n",
    "    probabilities = tf.nn.softmax(predictions[0]).numpy()  # Apply softmax\n",
    "    predicted_class = np.argmax(probabilities)\n",
    "\n",
    "    # Print the predicted class and probabilities\n",
    "    print(f\"Predicted Class: {class_names[predicted_class]}\")\n",
    "    print(f\"Probabilities: {probabilities}\")\n"
   ]
  },
  {
   "cell_type": "code",
   "execution_count": 7,
   "id": "32833fab-ab76-4ad0-b500-961c341da091",
   "metadata": {},
   "outputs": [
    {
     "name": "stdout",
     "output_type": "stream",
     "text": [
      "Predicted Class: meningioma\n",
      "Probabilities: [0.20039243 0.38202462 0.22719419 0.19038871]\n"
     ]
    }
   ],
   "source": [
    "image_path = 'BrainTumor_MRI/Testing/meningioma/Te-me_0073.jpg'\n",
    "predict_image(image_path, model)"
   ]
  },
  {
   "cell_type": "code",
   "execution_count": 8,
   "id": "25f6b646-24b0-4eec-9e8e-b1c3676c1ba0",
   "metadata": {},
   "outputs": [
    {
     "name": "stdout",
     "output_type": "stream",
     "text": [
      "Predicted Class: notumor\n",
      "Probabilities: [0.20336603 0.28343058 0.30817375 0.20502958]\n"
     ]
    }
   ],
   "source": [
    "image_path = 'BrainTumor_MRI/Testing/pituitary/Te-pi_0024.jpg'\n",
    "predict_image(image_path, model)"
   ]
  },
  {
   "cell_type": "code",
   "execution_count": 9,
   "id": "97b3d048-b91e-4bab-a855-483da335803b",
   "metadata": {},
   "outputs": [
    {
     "name": "stdout",
     "output_type": "stream",
     "text": [
      "Predicted Class: meningioma\n",
      "Probabilities: [0.19991969 0.38070673 0.22614908 0.19322444]\n"
     ]
    }
   ],
   "source": [
    "image_path = 'BrainTumor_MRI/Testing/glioma/Te-gl_0081.jpg'\n",
    "predict_image(image_path, model)"
   ]
  },
  {
   "cell_type": "code",
   "execution_count": 10,
   "id": "25e3670c-5648-4bde-aaa5-a2422c61b27e",
   "metadata": {},
   "outputs": [
    {
     "name": "stdout",
     "output_type": "stream",
     "text": [
      "Predicted Class: notumor\n",
      "Probabilities: [0.17920803 0.18779007 0.4546532  0.17834866]\n"
     ]
    }
   ],
   "source": [
    "image_path = 'BrainTumor_MRI/Testing/notumor/Te-no_0097.jpg'\n",
    "predict_image(image_path, model)"
   ]
  }
 ],
 "metadata": {
  "kernelspec": {
   "display_name": "Python 3 (ipykernel)",
   "language": "python",
   "name": "python3"
  },
  "language_info": {
   "codemirror_mode": {
    "name": "ipython",
    "version": 3
   },
   "file_extension": ".py",
   "mimetype": "text/x-python",
   "name": "python",
   "nbconvert_exporter": "python",
   "pygments_lexer": "ipython3",
   "version": "3.9.20"
  }
 },
 "nbformat": 4,
 "nbformat_minor": 5
}
