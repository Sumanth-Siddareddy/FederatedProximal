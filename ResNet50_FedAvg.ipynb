{
 "cells": [
  {
   "cell_type": "markdown",
   "id": "2e843e9d-cb25-4aa4-a9c5-135363259616",
   "metadata": {},
   "source": [
    "# FedAvg start at 2:05\n",
    "# end at 4:30"
   ]
  },
  {
   "cell_type": "code",
   "execution_count": 1,
   "id": "6cd4898c-bb0e-4a07-9a44-0ac8255a0a99",
   "metadata": {},
   "outputs": [
    {
     "name": "stderr",
     "output_type": "stream",
     "text": [
      "2024-12-04 23:29:08.058156: I tensorflow/core/platform/cpu_feature_guard.cc:182] This TensorFlow binary is optimized to use available CPU instructions in performance-critical operations.\n",
      "To enable the following instructions: AVX2 FMA, in other operations, rebuild TensorFlow with the appropriate compiler flags.\n",
      "2024-12-04 23:29:09.107869: W tensorflow/compiler/tf2tensorrt/utils/py_utils.cc:38] TF-TRT Warning: Could not find TensorRT\n"
     ]
    }
   ],
   "source": [
    "import os\n",
    "import numpy as np\n",
    "import matplotlib.pyplot as plt\n",
    "import seaborn as sns\n",
    "\n",
    "from sklearn.metrics import classification_report, confusion_matrix\n",
    "from sklearn.metrics import accuracy_score, precision_score, recall_score, confusion_matrix, classification_report\n",
    "\n",
    "import shutil\n",
    "import random\n",
    "\n",
    "import tensorflow as tf\n",
    "from tensorflow.keras import layers, models\n",
    "from tensorflow.keras.models import Sequential\n",
    "from tensorflow.keras.callbacks import EarlyStopping\n",
    "from tensorflow.keras.layers import Flatten, Input, BatchNormalization, Dense, Activation, Dropout\n",
    "from tensorflow.keras.preprocessing.image import ImageDataGenerator, load_img, img_to_array\n",
    "from tensorflow.keras.optimizers import SGD\n",
    "from tensorflow.keras.optimizers import Adam\n",
    "\n",
    "import torch\n",
    "import torch.nn as nn\n",
    "import torch.nn.functional as F\n",
    "import torch.optim as optim\n",
    "\n",
    "from torch.utils.data import DataLoader\n",
    "from torch.utils.data import TensorDataset\n",
    "from torchvision import datasets, transforms\n",
    "from torchvision.datasets import ImageFolder\n",
    "\n",
    "from copy import deepcopy"
   ]
  },
  {
   "cell_type": "code",
   "execution_count": 2,
   "id": "7168a318-40ab-4008-ad52-b61bf4746566",
   "metadata": {},
   "outputs": [],
   "source": [
    "# ----------------- CBAM Block Definition -----------------\n",
    "def cbam_block(inputs, reduction_ratio=0.5):\n",
    "    channels = inputs.shape[-1]\n",
    "\n",
    "    # Channel Attention\n",
    "    avg_pool = layers.GlobalAveragePooling2D()(inputs)\n",
    "    max_pool = layers.GlobalMaxPooling2D()(inputs)\n",
    "    shared_layer_1 = layers.Dense(int(channels * reduction_ratio), activation='relu', use_bias=True)\n",
    "    shared_layer_2 = layers.Dense(channels, activation='relu', use_bias=True)\n",
    "\n",
    "    avg_pool = shared_layer_1(avg_pool)\n",
    "    avg_pool = shared_layer_2(avg_pool)\n",
    "    max_pool = shared_layer_1(max_pool)\n",
    "    max_pool = shared_layer_2(max_pool)\n",
    "\n",
    "    attention = layers.Add()([avg_pool, max_pool])\n",
    "    attention = layers.Activation('sigmoid')(attention)\n",
    "    attention = layers.Reshape((1, 1, channels))(attention)\n",
    "    scaled_inputs = layers.Multiply()([inputs, attention])\n",
    "\n",
    "    # Spatial Attention\n",
    "    squeeze = layers.Conv2D(filters=1, kernel_size=1, activation='sigmoid', use_bias=False)(scaled_inputs)\n",
    "    expanded_inputs = layers.Multiply()([scaled_inputs, squeeze])\n",
    "\n",
    "    return expanded_inputs"
   ]
  },
  {
   "cell_type": "code",
   "execution_count": 3,
   "id": "0357dbd3-d0f6-428e-a8d6-f33ee059d839",
   "metadata": {},
   "outputs": [],
   "source": [
    "# ResNet50 with CBAM and a more complex output structure\n",
    "def ResNet50_CBAM_Model():\n",
    "    input_shape = (224, 224, 3)\n",
    "    resnet50 = tf.keras.applications.ResNet50(include_top=False, input_shape=input_shape, weights='imagenet')\n",
    "\n",
    "    x = layers.GlobalAveragePooling2D()(resnet50.output)\n",
    "    x = layers.Dense(units=1024, activation='relu')(x)\n",
    "    x = layers.Dense(units=512, activation='relu')(x)\n",
    "    x = layers.Dense(units=256, activation='relu')(x)\n",
    "    x = layers.Dense(units=128, activation='relu')(x)\n",
    "    x = layers.Dropout(0.5)(x)\n",
    "\n",
    "    x = layers.Reshape((1, 1, 128))(x)\n",
    "    x_max = layers.GlobalMaxPooling2D()(x)\n",
    "    x_avg = layers.GlobalAveragePooling2D()(x)\n",
    "    x = layers.Concatenate()([x_max, x_avg])\n",
    "    x = layers.Dense(units=4, activation='softmax')(x)\n",
    "\n",
    "    model = models.Model(inputs=resnet50.input, outputs=x, name='ResNet50_CBAM_Model')\n",
    "    return model"
   ]
  },
  {
   "cell_type": "code",
   "execution_count": 4,
   "id": "972caaa1-2ac1-4b79-885f-37c99bc9dc6e",
   "metadata": {},
   "outputs": [
    {
     "name": "stderr",
     "output_type": "stream",
     "text": [
      "2024-12-04 20:35:58.061160: I tensorflow/core/common_runtime/gpu/gpu_device.cc:1635] Created device /job:localhost/replica:0/task:0/device:GPU:0 with 31132 MB memory:  -> device: 0, name: Tesla V100-SXM2-32GB, pci bus id: 0000:89:00.0, compute capability: 7.0\n"
     ]
    },
    {
     "name": "stdout",
     "output_type": "stream",
     "text": [
      "Downloading data from https://storage.googleapis.com/tensorflow/keras-applications/resnet/resnet50_weights_tf_dim_ordering_tf_kernels_notop.h5\n",
      "94765736/94765736 [==============================] - 6s 0us/step\n"
     ]
    }
   ],
   "source": [
    "model = ResNet50_CBAM_Model()\n",
    "\n",
    "# Compile models\n",
    "model.compile(optimizer=tf.keras.optimizers.Adam(learning_rate=0.001),\n",
    "                loss='categorical_crossentropy', metrics=['accuracy'])"
   ]
  },
  {
   "cell_type": "code",
   "execution_count": 4,
   "id": "06002f97-1b42-481e-8daa-5f86d982c08b",
   "metadata": {},
   "outputs": [],
   "source": [
    "def loss_classifier(predictions, labels):\n",
    "    loss = tf.nn.sparse_softmax_cross_entropy_with_logits(labels=labels, logits=predictions)\n",
    "    return tf.reduce_mean(loss)\n",
    "\n",
    "\n",
    "def loss_dataset(model, dataset, loss_f):\n",
    "    loss = 0\n",
    "    for idx, (features, labels) in enumerate(dataset):\n",
    "        # Convert PyTorch tensors to NumPy and then to TensorFlow tensors\n",
    "        features_np = features.detach().cpu().numpy()\n",
    "        labels_np = labels.detach().cpu().numpy()\n",
    "\n",
    "        features_tf = tf.convert_to_tensor(features_np, dtype=tf.float32)\n",
    "        labels_tf = tf.convert_to_tensor(labels_np, dtype=tf.int32)\n",
    "\n",
    "        predictions = model(features_tf)\n",
    "        loss += loss_f(predictions, labels_tf)\n",
    "    loss /= (idx + 1)\n",
    "    return loss\n",
    "\n",
    "\n",
    "def accuracy_dataset(model, dataset):\n",
    "    correct = 0\n",
    "    total = 0\n",
    "    for features, labels in dataset:\n",
    "        # Convert PyTorch tensors to NumPy and then to TensorFlow tensors\n",
    "        features_np = features.detach().cpu().numpy()\n",
    "        labels_np = labels.detach().cpu().numpy()\n",
    "\n",
    "        features_tf = tf.convert_to_tensor(features_np, dtype=tf.float32)\n",
    "        labels_tf = tf.convert_to_tensor(labels_np, dtype=tf.int32)\n",
    "\n",
    "        predictions = model(features_tf)\n",
    "        predicted = tf.argmax(predictions, axis=1, output_type=tf.int32)\n",
    "        correct += tf.reduce_sum(tf.cast(tf.equal(predicted, labels_tf), tf.int32)).numpy()\n",
    "        total += labels_tf.shape[0]\n",
    "\n",
    "    accuracy = 100 * correct / total\n",
    "    return accuracy\n",
    "\n",
    "\n",
    "def train_step(model, model_0, mu, optimizer, train_data, loss_f):\n",
    "    total_loss = 0\n",
    "    for idx, (features, labels) in enumerate(train_data):\n",
    "        # Convert PyTorch tensors to NumPy and then to TensorFlow tensors\n",
    "        features_np = features.detach().cpu().numpy()\n",
    "        labels_np = labels.detach().cpu().numpy()\n",
    "\n",
    "        features_tf = tf.convert_to_tensor(features_np, dtype=tf.float32)\n",
    "        labels_tf = tf.convert_to_tensor(labels_np, dtype=tf.int32)\n",
    "\n",
    "        with tf.GradientTape() as tape:\n",
    "            predictions = model(features_tf)\n",
    "            loss = loss_f(predictions, labels_tf)\n",
    "            loss += mu / 2 * difference_models_norm_2(model, model_0)\n",
    "\n",
    "        total_loss += loss\n",
    "        gradients = tape.gradient(loss, model.trainable_variables)\n",
    "        optimizer.apply_gradients(zip(gradients, model.trainable_variables))\n",
    "\n",
    "    return total_loss / (idx + 1)\n",
    "\n",
    "\n",
    "def local_learning(model, mu, optimizer, train_data, epochs, loss_f):\n",
    "    # Clone the model instead of using deepcopy\n",
    "    model_0 = tf.keras.models.clone_model(model)\n",
    "    model_0.set_weights(model.get_weights())  # Set weights to be identical initially\n",
    "\n",
    "    for e in range(epochs):\n",
    "        local_loss = train_step(model, model_0, mu, optimizer, train_data, loss_f)\n",
    "\n",
    "    return local_loss\n",
    "\n",
    "\n",
    "def difference_models_norm_2(model_1, model_2):\n",
    "    norm = tf.reduce_sum([tf.reduce_sum(tf.square(w1 - w2)) for w1, w2 in zip(model_1.trainable_variables, model_2.trainable_variables)])\n",
    "    return norm\n",
    "\n",
    "def set_to_zero_model_weights(model):\n",
    "    for layer_weights in model.trainable_variables:\n",
    "        layer_weights.assign(tf.zeros_like(layer_weights))\n",
    "\n",
    "def average_models(model, clients_models_hist, weights):\n",
    "    set_to_zero_model_weights(model)\n",
    "    for k, client_hist in enumerate(clients_models_hist):\n",
    "        for idx, layer_weights in enumerate(model.trainable_variables):\n",
    "            contribution = client_hist[idx] * weights[k]\n",
    "            layer_weights.assign_add(contribution)\n",
    "\n",
    "#_______________________________________________________"
   ]
  },
  {
   "cell_type": "code",
   "execution_count": 5,
   "id": "94c8a8e5-b3a9-45b6-93bd-605ff7f1b8e6",
   "metadata": {},
   "outputs": [],
   "source": [
    "def FedProx(model, training_sets, n_iter, testing_sets, mu=0, epochs=5, lr=0.01, decay=1):\n",
    "    # Verify that `model` is a Keras model instance\n",
    "    if not isinstance(model, tf.keras.Model):\n",
    "        raise TypeError(\"The provided model is not a TensorFlow Keras model. Please provide a valid Keras model.\")\n",
    "\n",
    "    loss_f = loss_classifier\n",
    "    K = len(training_sets)\n",
    "    n_samples = sum([len(db) for db in training_sets])\n",
    "    weights = [len(db) / n_samples for db in training_sets]\n",
    "    print(\"Clients' weights:\", weights)\n",
    "\n",
    "    # Initialize history lists for training and testing\n",
    "    train_loss_hist = []\n",
    "    train_acc_hist = []\n",
    "    test_loss_hist = []\n",
    "    test_acc_hist = []\n",
    "    models_hist = []\n",
    "\n",
    "    for i in range(n_iter):\n",
    "        clients_params = []\n",
    "        clients_losses = []\n",
    "        clients_accuracies = []\n",
    "\n",
    "        for k in range(K):\n",
    "            # Clone the model and set weights for local training\n",
    "            local_model = tf.keras.models.clone_model(model)\n",
    "            local_model.set_weights(model.get_weights())\n",
    "\n",
    "            local_optimizer = tf.keras.optimizers.SGD(learning_rate=lr)\n",
    "\n",
    "            # Perform local training and track the loss\n",
    "            local_loss = local_learning(local_model, mu, local_optimizer, training_sets[k], epochs, loss_f)\n",
    "            clients_losses.append(local_loss)\n",
    "\n",
    "            # Track training accuracy for the client\n",
    "            train_acc = accuracy_dataset(local_model, training_sets[k])\n",
    "            clients_accuracies.append(train_acc)\n",
    "\n",
    "            # Store model parameters (deep copy to ensure immutability)\n",
    "            clients_params.append([tf.identity(tens_param) for tens_param in local_model.trainable_variables])\n",
    "\n",
    "        # Average the local models into the global model\n",
    "        average_models(model, clients_params, weights=weights)\n",
    "        models_hist.append(deepcopy(clients_params))\n",
    "\n",
    "        # Collect metrics for this iteration\n",
    "        train_loss_hist.append(clients_losses)\n",
    "        train_acc_hist.append(clients_accuracies)\n",
    "\n",
    "        # Compute testing metrics using the global model\n",
    "        test_loss_hist.append([loss_dataset(model, dl, loss_f).numpy() for dl in testing_sets])\n",
    "        test_acc_hist.append([accuracy_dataset(model, dl) for dl in testing_sets])\n",
    "\n",
    "        # Update learning rate by decay factor\n",
    "        lr *= decay\n",
    "        print(f'====> i: {i+1} Server Test Accuracy: {test_acc_hist[-1]}')\n",
    "\n",
    "    return model, train_loss_hist, train_acc_hist, test_loss_hist, test_acc_hist\n",
    "\n"
   ]
  },
  {
   "cell_type": "code",
   "execution_count": 6,
   "id": "071db6c8-0100-4833-9e33-93dfae937d50",
   "metadata": {},
   "outputs": [],
   "source": [
    "import matplotlib.pyplot as plt\n",
    "\n",
    "def plot_acc_loss(title: str, train_loss_hist: list, train_acc_hist: list,\n",
    "                  test_loss_hist: list, test_acc_hist: list):\n",
    "    plt.figure(figsize=(15, 5))  # Make the plot wider\n",
    "\n",
    "    # Plot training loss\n",
    "    plt.subplot(2, 2, 1)\n",
    "    lines = plt.plot(train_loss_hist)\n",
    "    plt.title(\"Training Loss\")\n",
    "    plt.legend(lines, [f\"C{i+1}\" for i in range(len(train_loss_hist[0]))])\n",
    "\n",
    "    # Plot training accuracy\n",
    "    plt.subplot(2, 2, 2)\n",
    "    lines = plt.plot(train_acc_hist)\n",
    "    plt.title(\"Training Accuracy\")\n",
    "    plt.legend(lines, [f\"C{i+1}\" for i in range(len(train_acc_hist[0]))])\n",
    "\n",
    "    # Plot testing loss\n",
    "    plt.subplot(2, 2, 3)\n",
    "    lines = plt.plot(test_loss_hist)\n",
    "    plt.title(\"Testing Loss\")\n",
    "    plt.legend(lines, [f\"C{i+1}\" for i in range(len(test_loss_hist[0]))])\n",
    "\n",
    "    # Plot testing accuracy\n",
    "    plt.subplot(2, 2, 4)\n",
    "    lines = plt.plot(test_acc_hist)\n",
    "    plt.title(\"Testing Accuracy\")\n",
    "    plt.legend(lines, [f\"C{i+1}\" for i in range(len(test_acc_hist[0]))])\n",
    "\n",
    "    plt.suptitle(title)\n",
    "    plt.tight_layout()\n",
    "    plt.show()\n",
    "\n",
    "\n",
    "def save_history_to_file(filename, n_iter, train_loss_hist, train_acc_hist,\n",
    "                         test_loss_hist, test_acc_hist):\n",
    "    with open(filename, 'w') as f:\n",
    "        f.write(\"FedProx Training Results\\n\")\n",
    "        f.write(\"=\"*50 + \"\\n\")\n",
    "        f.write(f\"Number of iterations: {n_iter}\\n\\n\")\n",
    "\n",
    "        # Write the history for each iteration\n",
    "        for i in range(n_iter):\n",
    "            f.write(f\"Iteration {i+1}:\\n\")\n",
    "            f.write(f\"Train Loss: {train_loss_hist[i]}\\n\")\n",
    "            f.write(f\"Train Accuracy: {train_acc_hist[i]}\\n\")\n",
    "            f.write(f\"Test Loss: {test_loss_hist[i]}\\n\")\n",
    "            f.write(f\"Test Accuracy: {test_acc_hist[i]}\\n\")\n",
    "            f.write(\"-\"*50 + \"\\n\")\n",
    "\n",
    "    print(f\"Training history saved to {filename}\")"
   ]
  },
  {
   "cell_type": "code",
   "execution_count": 7,
   "id": "b9856886-0084-4a13-bfdb-e18007cc9678",
   "metadata": {},
   "outputs": [
    {
     "name": "stdout",
     "output_type": "stream",
     "text": [
      "Batch 0 image sizes: torch.Size([25, 224, 224, 3])\n"
     ]
    }
   ],
   "source": [
    "import os\n",
    "from torchvision import datasets, transforms\n",
    "from torch.utils.data import DataLoader\n",
    "\n",
    "# Directories for each client\n",
    "split_dirs = [\n",
    "    \"Federated_Learning_NON_IID/Model_1\",\n",
    "    \"Federated_Learning_NON_IID/Model_2\",\n",
    "    \"Federated_Learning_NON_IID/Model_3\",\n",
    "    \"Federated_Learning_NON_IID/Model_4\"\n",
    "]\n",
    "\n",
    "# Number of clients\n",
    "n_clients = len(split_dirs)\n",
    "\n",
    "# Updated image transformations: Normalize first, then permute\n",
    "transform = transforms.Compose([\n",
    "    transforms.Resize((224, 224)),  # Resize images to 224x224\n",
    "    transforms.ToTensor(),          # Convert image to tensor format (C, H, W)\n",
    "    transforms.Normalize(mean=[0.485, 0.456, 0.406], std=[0.229, 0.224, 0.225]),  # Normalize\n",
    "    transforms.Lambda(lambda x: x.permute(1, 2, 0))  # Permute to (H, W, C)\n",
    "])\n",
    "\n",
    "def get_tumor_dataloaders(split_dirs, batch_size=25, shuffle=True):\n",
    "    \"\"\"\n",
    "    Returns data loaders for all clients for both training and testing sets.\n",
    "    \"\"\"\n",
    "    tumor_iid_train_dls = []\n",
    "    tumor_iid_test_dls = []\n",
    "\n",
    "    for client_idx, client_dir in enumerate(split_dirs):\n",
    "        # Get the directory for the current client\n",
    "        train_dir = os.path.join(client_dir, 'train')\n",
    "        test_dir = os.path.join(client_dir, 'test')\n",
    "\n",
    "        # Check if the directories exist\n",
    "        if not os.path.exists(train_dir) or not os.path.exists(test_dir):\n",
    "            print(f\"Directory not found for client {client_idx + 1}:\")\n",
    "            print(f\"Train dir: {train_dir}\")\n",
    "            print(f\"Test dir: {test_dir}\")\n",
    "            continue\n",
    "\n",
    "        # Load training data for the current client\n",
    "        train_dataset = datasets.ImageFolder(train_dir, transform=transform)\n",
    "        train_loader = DataLoader(train_dataset, batch_size=batch_size, shuffle=shuffle)\n",
    "\n",
    "        # Load testing data for the current client\n",
    "        test_dataset = datasets.ImageFolder(test_dir, transform=transform)\n",
    "        test_loader = DataLoader(test_dataset, batch_size=batch_size, shuffle=False)\n",
    "\n",
    "        # Append the dataloaders for the current client to the list\n",
    "        tumor_iid_train_dls.append(train_loader)\n",
    "        tumor_iid_test_dls.append(test_loader)\n",
    "\n",
    "    return tumor_iid_train_dls, tumor_iid_test_dls\n",
    "\n",
    "# Get the training and testing data loaders\n",
    "Tumor_iid_train_dls, Tumor_iid_test_dls = get_tumor_dataloaders(split_dirs, batch_size=25)\n",
    "\n",
    "# Checking the sizes of the images in the data loaders to verify the shape\n",
    "for batch_idx, (images, labels) in enumerate(Tumor_iid_train_dls[0]):  # Checking for client 1\n",
    "    print(f\"Batch {batch_idx} image sizes: {images.size()}\")  # Should print torch.Size([25, 224, 224, 3])\n",
    "    break  # Check only the first batch\n"
   ]
  },
  {
   "cell_type": "code",
   "execution_count": 9,
   "id": "f04079d3-beae-40d8-b66b-1f8cff823bbe",
   "metadata": {},
   "outputs": [
    {
     "name": "stdout",
     "output_type": "stream",
     "text": [
      "Clients' weights: [0.22620689655172413, 0.2303448275862069, 0.2868965517241379, 0.25655172413793104]\n"
     ]
    },
    {
     "name": "stderr",
     "output_type": "stream",
     "text": [
      "2024-12-04 20:36:11.817767: I tensorflow/compiler/xla/stream_executor/cuda/cuda_dnn.cc:424] Loaded cuDNN version 8700\n",
      "2024-12-04 20:36:14.942796: I tensorflow/compiler/xla/service/service.cc:169] XLA service 0x23051910 initialized for platform CUDA (this does not guarantee that XLA will be used). Devices:\n",
      "2024-12-04 20:36:14.942858: I tensorflow/compiler/xla/service/service.cc:177]   StreamExecutor device (0): Tesla V100-SXM2-32GB, Compute Capability 7.0\n",
      "2024-12-04 20:36:15.018224: I ./tensorflow/compiler/jit/device_compiler.h:180] Compiled cluster using XLA!  This line is logged at most once for the lifetime of the process.\n"
     ]
    },
    {
     "name": "stdout",
     "output_type": "stream",
     "text": [
      "WARNING:tensorflow:5 out of the last 5 calls to <function _BaseOptimizer._update_step_xla at 0x7f751c91e820> triggered tf.function retracing. Tracing is expensive and the excessive number of tracings could be due to (1) creating @tf.function repeatedly in a loop, (2) passing tensors with different shapes, (3) passing Python objects instead of tensors. For (1), please define your @tf.function outside of the loop. For (2), @tf.function has reduce_retracing=True option that can avoid unnecessary retracing. For (3), please refer to https://www.tensorflow.org/guide/function#controlling_retracing and https://www.tensorflow.org/api_docs/python/tf/function for  more details.\n",
      "WARNING:tensorflow:6 out of the last 6 calls to <function _BaseOptimizer._update_step_xla at 0x7f751c91e820> triggered tf.function retracing. Tracing is expensive and the excessive number of tracings could be due to (1) creating @tf.function repeatedly in a loop, (2) passing tensors with different shapes, (3) passing Python objects instead of tensors. For (1), please define your @tf.function outside of the loop. For (2), @tf.function has reduce_retracing=True option that can avoid unnecessary retracing. For (3), please refer to https://www.tensorflow.org/guide/function#controlling_retracing and https://www.tensorflow.org/api_docs/python/tf/function for  more details.\n",
      "====> i: 1 Server Test Accuracy: [29.642857142857142, 25.952380952380953, 36.372549019607845, 26.833333333333332]\n",
      "====> i: 2 Server Test Accuracy: [29.761904761904763, 30.833333333333332, 38.333333333333336, 37.666666666666664]\n",
      "====> i: 3 Server Test Accuracy: [27.38095238095238, 32.26190476190476, 30.098039215686274, 31.333333333333332]\n",
      "====> i: 4 Server Test Accuracy: [30.238095238095237, 29.642857142857142, 25.686274509803923, 25.0]\n",
      "====> i: 5 Server Test Accuracy: [44.166666666666664, 50.0, 58.13725490196079, 53.833333333333336]\n",
      "====> i: 6 Server Test Accuracy: [41.54761904761905, 44.285714285714285, 42.450980392156865, 46.166666666666664]\n",
      "====> i: 7 Server Test Accuracy: [42.26190476190476, 42.142857142857146, 38.92156862745098, 45.0]\n",
      "====> i: 8 Server Test Accuracy: [47.023809523809526, 50.357142857142854, 47.450980392156865, 52.166666666666664]\n",
      "====> i: 9 Server Test Accuracy: [49.166666666666664, 54.04761904761905, 50.98039215686274, 55.0]\n",
      "====> i: 10 Server Test Accuracy: [49.642857142857146, 52.38095238095238, 53.03921568627451, 56.166666666666664]\n"
     ]
    }
   ],
   "source": [
    "n_iter = 10\n",
    "# Execute FedProx with the new 4-client setup\n",
    "model, train_loss, train_acc, test_loss, test_acc = FedProx(\n",
    "    model, Tumor_iid_train_dls, n_iter, Tumor_iid_test_dls, mu=0.0, epochs=1, lr=0.0001\n",
    ")"
   ]
  },
  {
   "cell_type": "code",
   "execution_count": 10,
   "id": "63505133-3aaf-4c16-a585-544c4c9aa74b",
   "metadata": {},
   "outputs": [
    {
     "name": "stdout",
     "output_type": "stream",
     "text": [
      "Training history saved to FedAvg_ResNet50.txt\n"
     ]
    }
   ],
   "source": [
    "# File to save the results\n",
    "output_file = \"FedAvg_ResNet50.txt\"\n",
    "# Save the history to a file\n",
    "save_history_to_file(output_file, n_iter, train_loss, train_acc, test_loss, test_acc)\n"
   ]
  },
  {
   "cell_type": "code",
   "execution_count": 8,
   "id": "a1746ee6-b8d7-4382-9cf4-daf954e76003",
   "metadata": {},
   "outputs": [],
   "source": [
    "import torch\n",
    "from torchvision import datasets, transforms\n",
    "from torch.utils.data import DataLoader\n",
    "import tensorflow as tf\n",
    "from sklearn.metrics import confusion_matrix, accuracy_score, precision_score, recall_score, classification_report\n",
    "import numpy as np\n",
    "import os\n",
    "\n",
    "# Define transformations\n",
    "transform = transforms.Compose([\n",
    "    transforms.Resize((224, 224)),  # Resize images to 224x224\n",
    "    transforms.ToTensor(),          # Convert image to tensor format (C, H, W)\n",
    "    transforms.Normalize(mean=[0.485, 0.456, 0.406], std=[0.229, 0.224, 0.225]),  # Normalize\n",
    "    transforms.Lambda(lambda x: x.permute(1, 2, 0))  # Permute to (H, W, C)\n",
    "])\n",
    "\n",
    "# Load the testing dataset\n",
    "test_dir = 'BrainTumor_MRI/Testing'\n",
    "test_dataset = datasets.ImageFolder(test_dir, transform=transform)\n",
    "test_loader = DataLoader(test_dataset, batch_size=32, shuffle=False)\n",
    "\n",
    "# Class names mapping (adjust if necessary)\n",
    "class_names = test_dataset.classes\n",
    "\n",
    "# Function to evaluate the global model on the testing dataset\n",
    "def evaluate_global_model(model, test_loader):\n",
    "    all_preds = []\n",
    "    all_labels = []\n",
    "    total_loss = 0\n",
    "\n",
    "    for features, labels in test_loader:\n",
    "        # Convert to TensorFlow tensors\n",
    "        features_np = features.detach().cpu().numpy()\n",
    "        labels_np = labels.detach().cpu().numpy()\n",
    "\n",
    "        features_tf = tf.convert_to_tensor(features_np, dtype=tf.float32)\n",
    "        labels_tf = tf.convert_to_tensor(labels_np, dtype=tf.int32)\n",
    "\n",
    "        # Get predictions\n",
    "        predictions = model(features_tf)\n",
    "        predicted = tf.argmax(predictions, axis=1, output_type=tf.int32)\n",
    "\n",
    "        # Accumulate predictions and labels\n",
    "        all_preds.extend(predicted.numpy())\n",
    "        all_labels.extend(labels_np)\n",
    "\n",
    "        # Compute loss\n",
    "        loss = tf.nn.sparse_softmax_cross_entropy_with_logits(labels=labels_tf, logits=predictions)\n",
    "        total_loss += tf.reduce_mean(loss).numpy()\n",
    "\n",
    "    # Compute metrics\n",
    "    accuracy = accuracy_score(all_labels, all_preds)\n",
    "    precision = precision_score(all_labels, all_preds, average='weighted')\n",
    "    recall = recall_score(all_labels, all_preds, average='weighted')\n",
    "    conf_matrix = confusion_matrix(all_labels, all_preds)\n",
    "\n",
    "    print(f\"\\nConfusion Matrix:\\n{conf_matrix}\")\n",
    "    print(f\"\\nAccuracy: {accuracy * 100:.2f}%\")\n",
    "    print(f\"Loss: {total_loss / len(test_loader):.4f}\")\n",
    "    print(f\"Precision: {precision:.4f}\")\n",
    "    print(f\"Recall: {recall:.4f}\")\n",
    "\n",
    "    # Print detailed classification report\n",
    "    print(\"\\nClassification Report:\\n\", classification_report(all_labels, all_preds, target_names=class_names))\n",
    "\n"
   ]
  },
  {
   "cell_type": "code",
   "execution_count": 12,
   "id": "2b31fd64-5134-40bc-98dd-6299f3823b8c",
   "metadata": {},
   "outputs": [
    {
     "name": "stdout",
     "output_type": "stream",
     "text": [
      "\n",
      "Confusion Matrix:\n",
      "[[230  57   3  10]\n",
      " [ 66 143  52  45]\n",
      " [ 49  24 307  25]\n",
      " [ 47  73   5 175]]\n",
      "\n",
      "Accuracy: 65.22%\n",
      "Loss: 1.0752\n",
      "Precision: 0.6621\n",
      "Recall: 0.6522\n",
      "\n",
      "Classification Report:\n",
      "               precision    recall  f1-score   support\n",
      "\n",
      "      glioma       0.59      0.77      0.66       300\n",
      "  meningioma       0.48      0.47      0.47       306\n",
      "     notumor       0.84      0.76      0.80       405\n",
      "   pituitary       0.69      0.58      0.63       300\n",
      "\n",
      "    accuracy                           0.65      1311\n",
      "   macro avg       0.65      0.64      0.64      1311\n",
      "weighted avg       0.66      0.65      0.65      1311\n",
      "\n"
     ]
    }
   ],
   "source": [
    "# Evaluate the model on the testing dataset\n",
    "evaluate_global_model(model, test_loader)"
   ]
  },
  {
   "cell_type": "code",
   "execution_count": 9,
   "id": "4ecb5494-cdd4-4cfa-a5ff-f7a03bf7f073",
   "metadata": {},
   "outputs": [
    {
     "name": "stderr",
     "output_type": "stream",
     "text": [
      "2024-12-04 23:29:43.209282: I tensorflow/core/common_runtime/gpu/gpu_device.cc:1635] Created device /job:localhost/replica:0/task:0/device:GPU:0 with 31132 MB memory:  -> device: 0, name: Tesla V100-SXM2-32GB, pci bus id: 0000:89:00.0, compute capability: 7.0\n"
     ]
    }
   ],
   "source": [
    "model = ResNet50_CBAM_Model()\n",
    "\n",
    "# Compile models\n",
    "model.compile(optimizer=tf.keras.optimizers.Adam(learning_rate=0.001),\n",
    "                loss='categorical_crossentropy', metrics=['accuracy'])"
   ]
  },
  {
   "cell_type": "code",
   "execution_count": 10,
   "id": "a468a810-895b-48da-b285-035d11e84c55",
   "metadata": {},
   "outputs": [
    {
     "name": "stdout",
     "output_type": "stream",
     "text": [
      "Clients' weights: [0.22620689655172413, 0.2303448275862069, 0.2868965517241379, 0.25655172413793104]\n"
     ]
    },
    {
     "name": "stderr",
     "output_type": "stream",
     "text": [
      "2024-12-04 23:29:50.389147: I tensorflow/compiler/xla/stream_executor/cuda/cuda_dnn.cc:424] Loaded cuDNN version 8700\n",
      "2024-12-04 23:29:53.508592: I tensorflow/compiler/xla/service/service.cc:169] XLA service 0x245aae40 initialized for platform CUDA (this does not guarantee that XLA will be used). Devices:\n",
      "2024-12-04 23:29:53.508623: I tensorflow/compiler/xla/service/service.cc:177]   StreamExecutor device (0): Tesla V100-SXM2-32GB, Compute Capability 7.0\n",
      "2024-12-04 23:29:53.585759: I ./tensorflow/compiler/jit/device_compiler.h:180] Compiled cluster using XLA!  This line is logged at most once for the lifetime of the process.\n"
     ]
    },
    {
     "name": "stdout",
     "output_type": "stream",
     "text": [
      "WARNING:tensorflow:5 out of the last 5 calls to <function _BaseOptimizer._update_step_xla at 0x7fa99c3a9040> triggered tf.function retracing. Tracing is expensive and the excessive number of tracings could be due to (1) creating @tf.function repeatedly in a loop, (2) passing tensors with different shapes, (3) passing Python objects instead of tensors. For (1), please define your @tf.function outside of the loop. For (2), @tf.function has reduce_retracing=True option that can avoid unnecessary retracing. For (3), please refer to https://www.tensorflow.org/guide/function#controlling_retracing and https://www.tensorflow.org/api_docs/python/tf/function for  more details.\n",
      "WARNING:tensorflow:6 out of the last 6 calls to <function _BaseOptimizer._update_step_xla at 0x7fa99c3a9040> triggered tf.function retracing. Tracing is expensive and the excessive number of tracings could be due to (1) creating @tf.function repeatedly in a loop, (2) passing tensors with different shapes, (3) passing Python objects instead of tensors. For (1), please define your @tf.function outside of the loop. For (2), @tf.function has reduce_retracing=True option that can avoid unnecessary retracing. For (3), please refer to https://www.tensorflow.org/guide/function#controlling_retracing and https://www.tensorflow.org/api_docs/python/tf/function for  more details.\n",
      "====> i: 1 Server Test Accuracy: [33.214285714285715, 34.76190476190476, 31.470588235294116, 33.5]\n",
      "====> i: 2 Server Test Accuracy: [36.904761904761905, 41.904761904761905, 33.8235294117647, 33.333333333333336]\n",
      "====> i: 3 Server Test Accuracy: [52.5, 48.214285714285715, 50.0, 46.666666666666664]\n",
      "====> i: 4 Server Test Accuracy: [58.333333333333336, 52.142857142857146, 56.372549019607845, 56.666666666666664]\n",
      "====> i: 5 Server Test Accuracy: [54.04761904761905, 48.095238095238095, 51.666666666666664, 55.0]\n",
      "====> i: 6 Server Test Accuracy: [62.26190476190476, 64.52380952380952, 74.2156862745098, 70.33333333333333]\n",
      "====> i: 7 Server Test Accuracy: [66.66666666666667, 68.45238095238095, 73.92156862745098, 73.5]\n",
      "====> i: 8 Server Test Accuracy: [64.16666666666667, 54.04761904761905, 59.11764705882353, 68.16666666666667]\n",
      "====> i: 9 Server Test Accuracy: [71.30952380952381, 71.9047619047619, 75.88235294117646, 75.83333333333333]\n",
      "====> i: 10 Server Test Accuracy: [67.5, 55.0, 59.90196078431372, 72.5]\n"
     ]
    }
   ],
   "source": [
    "n_iter = 10\n",
    "# Execute FedProx with the new 4-client setup\n",
    "model_f, train_loss_f, train_acc_f, test_loss_f, test_acc_f = FedProx(\n",
    "    model, Tumor_iid_train_dls, n_iter, Tumor_iid_test_dls, mu=0.4, epochs=1, lr=0.0001\n",
    ")"
   ]
  },
  {
   "cell_type": "code",
   "execution_count": 11,
   "id": "9df9ad16-f8b4-449a-828a-525af45b85db",
   "metadata": {},
   "outputs": [
    {
     "name": "stdout",
     "output_type": "stream",
     "text": [
      "Training history saved to FedProxmu=0.4_ResNet50.txt\n"
     ]
    }
   ],
   "source": [
    "# File to save the results\n",
    "output_file = \"FedProxmu=0.4_ResNet50.txt\"\n",
    "# Save the history to a file\n",
    "save_history_to_file(output_file, n_iter, train_loss_f, train_acc_f, test_loss_f, test_acc_f)\n"
   ]
  },
  {
   "cell_type": "code",
   "execution_count": 12,
   "id": "043810f1-62f0-4e98-8fd4-0d3930a4eca7",
   "metadata": {},
   "outputs": [
    {
     "name": "stdout",
     "output_type": "stream",
     "text": [
      "\n",
      "Confusion Matrix:\n",
      "[[185  99   2  14]\n",
      " [ 29 188  71  18]\n",
      " [ 32  29 316  28]\n",
      " [ 20 110  19 151]]\n",
      "\n",
      "Accuracy: 64.07%\n",
      "Loss: 1.0955\n",
      "Precision: 0.6652\n",
      "Recall: 0.6407\n",
      "\n",
      "Classification Report:\n",
      "               precision    recall  f1-score   support\n",
      "\n",
      "      glioma       0.70      0.62      0.65       300\n",
      "  meningioma       0.44      0.61      0.51       306\n",
      "     notumor       0.77      0.78      0.78       405\n",
      "   pituitary       0.72      0.50      0.59       300\n",
      "\n",
      "    accuracy                           0.64      1311\n",
      "   macro avg       0.66      0.63      0.63      1311\n",
      "weighted avg       0.67      0.64      0.64      1311\n",
      "\n"
     ]
    }
   ],
   "source": [
    "# Evaluate the model on the testing dataset\n",
    "evaluate_global_model(model_f, test_loader)"
   ]
  },
  {
   "cell_type": "code",
   "execution_count": null,
   "id": "40a37cc8-f228-4116-b08a-fa59b036ef50",
   "metadata": {},
   "outputs": [],
   "source": []
  }
 ],
 "metadata": {
  "kernelspec": {
   "display_name": "Python 3 (ipykernel)",
   "language": "python",
   "name": "python3"
  },
  "language_info": {
   "codemirror_mode": {
    "name": "ipython",
    "version": 3
   },
   "file_extension": ".py",
   "mimetype": "text/x-python",
   "name": "python",
   "nbconvert_exporter": "python",
   "pygments_lexer": "ipython3",
   "version": "3.9.20"
  }
 },
 "nbformat": 4,
 "nbformat_minor": 5
}
